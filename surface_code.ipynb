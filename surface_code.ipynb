{
  "cells": [
    {
      "cell_type": "code",
      "execution_count": null,
      "metadata": {
        "colab": {
          "base_uri": "https://localhost:8080/"
        },
        "collapsed": true,
        "id": "lxM3ZuZfDYTa",
        "outputId": "f7a64821-1bbc-4803-db79-d62a2842f3ca"
      },
      "outputs": [
        {
          "name": "stdout",
          "output_type": "stream",
          "text": [
            "Requirement already satisfied: qiskit in /usr/local/lib/python3.11/dist-packages (2.0.0)\n",
            "Requirement already satisfied: rustworkx>=0.15.0 in /usr/local/lib/python3.11/dist-packages (from qiskit) (0.16.0)\n",
            "Requirement already satisfied: numpy<3,>=1.17 in /usr/local/lib/python3.11/dist-packages (from qiskit) (2.0.2)\n",
            "Requirement already satisfied: scipy>=1.5 in /usr/local/lib/python3.11/dist-packages (from qiskit) (1.14.1)\n",
            "Requirement already satisfied: sympy>=1.3 in /usr/local/lib/python3.11/dist-packages (from qiskit) (1.13.1)\n",
            "Requirement already satisfied: dill>=0.3 in /usr/local/lib/python3.11/dist-packages (from qiskit) (0.4.0)\n",
            "Requirement already satisfied: python-dateutil>=2.8.0 in /usr/local/lib/python3.11/dist-packages (from qiskit) (2.8.2)\n",
            "Requirement already satisfied: stevedore>=3.0.0 in /usr/local/lib/python3.11/dist-packages (from qiskit) (5.4.1)\n",
            "Requirement already satisfied: typing-extensions in /usr/local/lib/python3.11/dist-packages (from qiskit) (4.13.2)\n",
            "Requirement already satisfied: symengine<0.14,>=0.11 in /usr/local/lib/python3.11/dist-packages (from qiskit) (0.13.0)\n",
            "Requirement already satisfied: six>=1.5 in /usr/local/lib/python3.11/dist-packages (from python-dateutil>=2.8.0->qiskit) (1.17.0)\n",
            "Requirement already satisfied: pbr>=2.0.0 in /usr/local/lib/python3.11/dist-packages (from stevedore>=3.0.0->qiskit) (6.1.1)\n",
            "Requirement already satisfied: mpmath<1.4,>=1.1.0 in /usr/local/lib/python3.11/dist-packages (from sympy>=1.3->qiskit) (1.3.0)\n",
            "Requirement already satisfied: setuptools in /usr/local/lib/python3.11/dist-packages (from pbr>=2.0.0->stevedore>=3.0.0->qiskit) (75.2.0)\n",
            "Requirement already satisfied: pylatexenc in /usr/local/lib/python3.11/dist-packages (2.10)\n",
            "Requirement already satisfied: qiskit_aer in /usr/local/lib/python3.11/dist-packages (0.17.0)\n",
            "Requirement already satisfied: qiskit>=1.1.0 in /usr/local/lib/python3.11/dist-packages (from qiskit_aer) (2.0.0)\n",
            "Requirement already satisfied: numpy>=1.16.3 in /usr/local/lib/python3.11/dist-packages (from qiskit_aer) (2.0.2)\n",
            "Requirement already satisfied: scipy>=1.0 in /usr/local/lib/python3.11/dist-packages (from qiskit_aer) (1.14.1)\n",
            "Requirement already satisfied: psutil>=5 in /usr/local/lib/python3.11/dist-packages (from qiskit_aer) (5.9.5)\n",
            "Requirement already satisfied: rustworkx>=0.15.0 in /usr/local/lib/python3.11/dist-packages (from qiskit>=1.1.0->qiskit_aer) (0.16.0)\n",
            "Requirement already satisfied: sympy>=1.3 in /usr/local/lib/python3.11/dist-packages (from qiskit>=1.1.0->qiskit_aer) (1.13.1)\n",
            "Requirement already satisfied: dill>=0.3 in /usr/local/lib/python3.11/dist-packages (from qiskit>=1.1.0->qiskit_aer) (0.4.0)\n",
            "Requirement already satisfied: python-dateutil>=2.8.0 in /usr/local/lib/python3.11/dist-packages (from qiskit>=1.1.0->qiskit_aer) (2.8.2)\n",
            "Requirement already satisfied: stevedore>=3.0.0 in /usr/local/lib/python3.11/dist-packages (from qiskit>=1.1.0->qiskit_aer) (5.4.1)\n",
            "Requirement already satisfied: typing-extensions in /usr/local/lib/python3.11/dist-packages (from qiskit>=1.1.0->qiskit_aer) (4.13.2)\n",
            "Requirement already satisfied: symengine<0.14,>=0.11 in /usr/local/lib/python3.11/dist-packages (from qiskit>=1.1.0->qiskit_aer) (0.13.0)\n",
            "Requirement already satisfied: six>=1.5 in /usr/local/lib/python3.11/dist-packages (from python-dateutil>=2.8.0->qiskit>=1.1.0->qiskit_aer) (1.17.0)\n",
            "Requirement already satisfied: pbr>=2.0.0 in /usr/local/lib/python3.11/dist-packages (from stevedore>=3.0.0->qiskit>=1.1.0->qiskit_aer) (6.1.1)\n",
            "Requirement already satisfied: mpmath<1.4,>=1.1.0 in /usr/local/lib/python3.11/dist-packages (from sympy>=1.3->qiskit>=1.1.0->qiskit_aer) (1.3.0)\n",
            "Requirement already satisfied: setuptools in /usr/local/lib/python3.11/dist-packages (from pbr>=2.0.0->stevedore>=3.0.0->qiskit>=1.1.0->qiskit_aer) (75.2.0)\n",
            "Requirement already satisfied: qiskit_ibm_runtime in /usr/local/lib/python3.11/dist-packages (0.38.0)\n",
            "Requirement already satisfied: requests>=2.19 in /usr/local/lib/python3.11/dist-packages (from qiskit_ibm_runtime) (2.32.3)\n",
            "Requirement already satisfied: requests-ntlm>=1.1.0 in /usr/local/lib/python3.11/dist-packages (from qiskit_ibm_runtime) (1.3.0)\n",
            "Requirement already satisfied: numpy>=1.13 in /usr/local/lib/python3.11/dist-packages (from qiskit_ibm_runtime) (2.0.2)\n",
            "Requirement already satisfied: urllib3>=1.21.1 in /usr/local/lib/python3.11/dist-packages (from qiskit_ibm_runtime) (2.3.0)\n",
            "Requirement already satisfied: python-dateutil>=2.8.0 in /usr/local/lib/python3.11/dist-packages (from qiskit_ibm_runtime) (2.8.2)\n",
            "Requirement already satisfied: ibm-platform-services>=0.22.6 in /usr/local/lib/python3.11/dist-packages (from qiskit_ibm_runtime) (0.63.0)\n",
            "Requirement already satisfied: pydantic<2.10,>=2.5.0 in /usr/local/lib/python3.11/dist-packages (from qiskit_ibm_runtime) (2.9.2)\n",
            "Requirement already satisfied: qiskit>=1.4.1 in /usr/local/lib/python3.11/dist-packages (from qiskit_ibm_runtime) (2.0.0)\n",
            "Requirement already satisfied: packaging in /usr/local/lib/python3.11/dist-packages (from qiskit_ibm_runtime) (24.2)\n",
            "Requirement already satisfied: ibm_cloud_sdk_core<4.0.0,>=3.22.1 in /usr/local/lib/python3.11/dist-packages (from ibm-platform-services>=0.22.6->qiskit_ibm_runtime) (3.23.0)\n",
            "Requirement already satisfied: annotated-types>=0.6.0 in /usr/local/lib/python3.11/dist-packages (from pydantic<2.10,>=2.5.0->qiskit_ibm_runtime) (0.7.0)\n",
            "Requirement already satisfied: pydantic-core==2.23.4 in /usr/local/lib/python3.11/dist-packages (from pydantic<2.10,>=2.5.0->qiskit_ibm_runtime) (2.23.4)\n",
            "Requirement already satisfied: typing-extensions>=4.6.1 in /usr/local/lib/python3.11/dist-packages (from pydantic<2.10,>=2.5.0->qiskit_ibm_runtime) (4.13.2)\n",
            "Requirement already satisfied: six>=1.5 in /usr/local/lib/python3.11/dist-packages (from python-dateutil>=2.8.0->qiskit_ibm_runtime) (1.17.0)\n",
            "Requirement already satisfied: rustworkx>=0.15.0 in /usr/local/lib/python3.11/dist-packages (from qiskit>=1.4.1->qiskit_ibm_runtime) (0.16.0)\n",
            "Requirement already satisfied: scipy>=1.5 in /usr/local/lib/python3.11/dist-packages (from qiskit>=1.4.1->qiskit_ibm_runtime) (1.14.1)\n",
            "Requirement already satisfied: sympy>=1.3 in /usr/local/lib/python3.11/dist-packages (from qiskit>=1.4.1->qiskit_ibm_runtime) (1.13.1)\n",
            "Requirement already satisfied: dill>=0.3 in /usr/local/lib/python3.11/dist-packages (from qiskit>=1.4.1->qiskit_ibm_runtime) (0.4.0)\n",
            "Requirement already satisfied: stevedore>=3.0.0 in /usr/local/lib/python3.11/dist-packages (from qiskit>=1.4.1->qiskit_ibm_runtime) (5.4.1)\n",
            "Requirement already satisfied: symengine<0.14,>=0.11 in /usr/local/lib/python3.11/dist-packages (from qiskit>=1.4.1->qiskit_ibm_runtime) (0.13.0)\n",
            "Requirement already satisfied: charset-normalizer<4,>=2 in /usr/local/lib/python3.11/dist-packages (from requests>=2.19->qiskit_ibm_runtime) (3.4.1)\n",
            "Requirement already satisfied: idna<4,>=2.5 in /usr/local/lib/python3.11/dist-packages (from requests>=2.19->qiskit_ibm_runtime) (3.10)\n",
            "Requirement already satisfied: certifi>=2017.4.17 in /usr/local/lib/python3.11/dist-packages (from requests>=2.19->qiskit_ibm_runtime) (2025.1.31)\n",
            "Requirement already satisfied: cryptography>=1.3 in /usr/local/lib/python3.11/dist-packages (from requests-ntlm>=1.1.0->qiskit_ibm_runtime) (43.0.3)\n",
            "Requirement already satisfied: pyspnego>=0.4.0 in /usr/local/lib/python3.11/dist-packages (from requests-ntlm>=1.1.0->qiskit_ibm_runtime) (0.11.2)\n",
            "Requirement already satisfied: cffi>=1.12 in /usr/local/lib/python3.11/dist-packages (from cryptography>=1.3->requests-ntlm>=1.1.0->qiskit_ibm_runtime) (1.17.1)\n",
            "Requirement already satisfied: PyJWT<3.0.0,>=2.8.0 in /usr/local/lib/python3.11/dist-packages (from ibm_cloud_sdk_core<4.0.0,>=3.22.1->ibm-platform-services>=0.22.6->qiskit_ibm_runtime) (2.10.1)\n",
            "Requirement already satisfied: pbr>=2.0.0 in /usr/local/lib/python3.11/dist-packages (from stevedore>=3.0.0->qiskit>=1.4.1->qiskit_ibm_runtime) (6.1.1)\n",
            "Requirement already satisfied: mpmath<1.4,>=1.1.0 in /usr/local/lib/python3.11/dist-packages (from sympy>=1.3->qiskit>=1.4.1->qiskit_ibm_runtime) (1.3.0)\n",
            "Requirement already satisfied: pycparser in /usr/local/lib/python3.11/dist-packages (from cffi>=1.12->cryptography>=1.3->requests-ntlm>=1.1.0->qiskit_ibm_runtime) (2.22)\n",
            "Requirement already satisfied: setuptools in /usr/local/lib/python3.11/dist-packages (from pbr>=2.0.0->stevedore>=3.0.0->qiskit>=1.4.1->qiskit_ibm_runtime) (75.2.0)\n"
          ]
        }
      ],
      "source": [
        "%pip install qiskit\n",
        "%pip install pylatexenc\n",
        "%pip install qiskit_aer\n",
        "%pip install qiskit_ibm_runtime"
      ]
    },
    {
      "cell_type": "code",
      "execution_count": 26,
      "metadata": {
        "id": "ARad-w_dCYjz"
      },
      "outputs": [],
      "source": [
        "import numpy as np\n",
        "from qiskit import QuantumRegister, ClassicalRegister, QuantumCircuit\n",
        "import matplotlib\n",
        "import qiskit_aer\n",
        "import pylatexenc\n",
        "import random\n",
        "import qiskit\n",
        "from scipy.optimize import minimize\n",
        "\n",
        "from qiskit.visualization import plot_bloch_multivector, plot_histogram\n",
        "from qiskit_aer import AerSimulator\n",
        "from qiskit_ibm_runtime import QiskitRuntimeService\n",
        "from qiskit_ibm_runtime import EstimatorV2 as Estimator\n",
        "from qiskit_ibm_runtime import SamplerV2 as Sampler\n",
        "from qiskit.transpiler.preset_passmanagers import generate_preset_pass_manager"
      ]
    },
    {
      "cell_type": "markdown",
      "metadata": {
        "id": "8MG9mU-kwOsl"
      },
      "source": [
        "# Implementing and benchmarking the 3-qubit surface code"
      ]
    },
    {
      "cell_type": "markdown",
      "metadata": {
        "id": "C3CgQkynxspX"
      },
      "source": [
        "## My best estimate for the pseudocode/components we'll need\n",
        "\n",
        "#### Create a single logical qubit\n",
        "      \n",
        "\n",
        "*   Define a lattice of physical qubits (4x4?)\n",
        "*   Define the stabilizer generators (vertex and plaquette stabilizers)\n",
        "*   We're gonna do a rotated surface code -- this is state of the art\n",
        "\n",
        "\n",
        "#### Replicate the logical qubit twice\n",
        "\n",
        "\n",
        "\n",
        "\n",
        "#### Figure out how to implement interactions between the qubits\n",
        "\n"
      ]
    },
    {
      "cell_type": "markdown",
      "metadata": {
        "id": "rsZLi2GpP9tm"
      },
      "source": [
        "There's several alternate schemes depending on how you construct the lattice and if you want it to encode two logical qubits or one. https://arxiv.org/pdf/quant-ph/9811052 I mainly followed along with paper for two logical qubits and how they implemented the stabilizer circuits."
      ]
    },
    {
      "cell_type": "code",
      "execution_count": 90,
      "metadata": {
        "id": "MFYNrUAh9AUo"
      },
      "outputs": [],
      "source": [
        "class DisjointSet:\n",
        "  def __init__(self, vx_count):\n",
        "    self.parent = list(range(0,vx_count))\n",
        "    self.paths = []\n",
        "    for i in range(0,vx_count):\n",
        "       self.paths.append([])\n",
        "    \n",
        "\n",
        "    self.rank = [0] * vx_count\n",
        "\n",
        "  def find(self, i):\n",
        "    if self.parent[i] != i:\n",
        "      self.parent[i] = self.find(self.parent[i])\n",
        "    return self.parent[i]\n",
        "\n",
        "  def union(self, x, y, e):\n",
        "    s1 = self.find(x)\n",
        "    s2 = self.find(y)\n",
        "    #print(\"Run with \"+str(x)+\" \"+str(y))\n",
        "    #print(self.rank)\n",
        "    if s1 != s2:\n",
        "\n",
        "      if self.rank[s1] < self.rank[s2]:\n",
        "          self.parent[s1] = s2\n",
        "          self.rank[s2] += 1 + self.rank[s1]\n",
        "          self.paths[s1].append(e)\n",
        "          self.paths[s2] += self.paths[s1]\n",
        "\n",
        "      else:\n",
        "          self.parent[s2] = s1\n",
        "          self.rank[s1] += 1 + self.rank[s2]\n",
        "          self.paths[s2].append(e)\n",
        "          self.paths[s1] += self.paths[s2]\n",
        "    #print(self.rank)\n",
        "    #print(\" \")\n",
        "  def get_highest_rank_tree(self):\n",
        "    return self.paths[self.rank.index(max(self.rank))]\n"
      ]
    },
    {
      "cell_type": "code",
      "execution_count": 91,
      "metadata": {
        "colab": {
          "base_uri": "https://localhost:8080/",
          "height": 108
        },
        "id": "DXA9EGfwaHQS",
        "outputId": "a6575cf9-00d1-4a22-8510-0a1406e092fe"
      },
      "outputs": [],
      "source": [
        "class Graph:\n",
        "  def __init__(self):\n",
        "    self.vertexes = []\n",
        "    self.edges = []\n",
        "    self.minimum_spanning_tree = None\n",
        "  def add_vertex(self, v):\n",
        "    self.vertexes.append(v)\n",
        "  def get_edge_other_vertex(self, v, edge):\n",
        "    if v == edge[\"v1\"]: return edge[\"v2\"]\n",
        "    else: return edge[\"v1\"]\n",
        "\n",
        "  def add_edge(self, v1, v2, w, path):\n",
        "    self.edges.append({\"v1\":v1, \"v2\":v2, \"weight\":w, \"data_qubit_path\": path})\n",
        "\n",
        "  def sort_fun(self, edge):\n",
        "    return edge[\"weight\"]\n",
        "\n",
        "  def get_minimum_spanning_tree(self):\n",
        "\n",
        "    #Sort edges so we go through them highest to lowest order of weight\n",
        "    self.edges.sort(key=self.sort_fun)\n",
        "    tree_tracker = DisjointSet(len(self.vertexes))\n",
        "    count = 0\n",
        "\n",
        "    for e in self.edges:\n",
        "      if tree_tracker.find(e[\"v1\"]) != tree_tracker.find(e[\"v2\"]):\n",
        "        tree_tracker.union(e[\"v1\"], e[\"v2\"], e)\n",
        "        count += 1\n",
        "        if count == len(self.vertexes)-1:\n",
        "          break\n",
        "\n",
        "    #We've obtained a minimum spanning tree\n",
        "    min_span = tree_tracker.get_highest_rank_tree()\n",
        "\n",
        "    #Disconnect the middle edges to get a set of disconnected edges\n",
        "    min_span.sort(key=self.sort_fun)\n",
        "\n",
        "    count_edges_vertex_in = dict((x,0) for x in self.vertexes)\n",
        "    vertex_to_edges = dict((x,[]) for x in self.vertexes)\n",
        "\n",
        "    for e in min_span:\n",
        "      count_edges_vertex_in[e[\"v1\"]] += 1\n",
        "      count_edges_vertex_in[e[\"v2\"]] += 1\n",
        "      vertex_to_edges[e[\"v1\"]].append(e)\n",
        "      vertex_to_edges[e[\"v2\"]].append(e)\n",
        "\n",
        "    print(count_edges_vertex_in)\n",
        "    #only_one = list(x for x in self.vertexes if count_edges_vertex_in[x]==1)\n",
        "    count_edges_vertex_in = dict(sorted(filter(lambda item: item[1], count_edges_vertex_in.items()), key=lambda item: item[1]))\n",
        "    \n",
        "    vertex_used = []\n",
        "    shortest_edges = []\n",
        "\n",
        "    print(count_edges_vertex_in)\n",
        "    #print(vertex_to_edges)\n",
        "    for v in count_edges_vertex_in:\n",
        "      print(v)\n",
        "      print(vertex_used)\n",
        "      while v not in vertex_used:\n",
        "  \n",
        "        for e in vertex_to_edges[v]:\n",
        "          if self.get_edge_other_vertex(v,e) not in vertex_used:\n",
        "            vertex_used.append(v)\n",
        "            vertex_used.append(self.get_edge_other_vertex(v,e))\n",
        "            shortest_edges.append(e)\n",
        "\n",
        "      if len(vertex_used) == len(self.vertexes):\n",
        "        break\n",
        "\n",
        "\n",
        "    return shortest_edges\n",
        "\n",
        "\n",
        "\n"
      ]
    },
    {
      "cell_type": "code",
      "execution_count": 92,
      "metadata": {},
      "outputs": [
        {
          "name": "stdout",
          "output_type": "stream",
          "text": [
            "[0, 1, 2, 3, 4, 5, 6, 7, 8]\n",
            "[{'v1': 1, 'v2': 2, 'weight': 1, 'data_qubit_path': [1]}, {'v1': 1, 'v2': 4, 'weight': 1, 'data_qubit_path': [4]}, {'v1': 1, 'v2': 7, 'weight': 2, 'data_qubit_path': [4, 10]}, {'v1': 4, 'v2': 7, 'weight': 1, 'data_qubit_path': [10]}, {'v1': 2, 'v2': 4, 'weight': 2, 'data_qubit_path': [1, 4]}, {'v1': 2, 'v2': 7, 'weight': 3, 'data_qubit_path': [1, 4, 10]}]\n",
            "{0: 0, 1: 2, 2: 1, 3: 0, 4: 2, 5: 0, 6: 0, 7: 1, 8: 0}\n",
            "{2: 1, 7: 1, 1: 2, 4: 2}\n",
            "2\n",
            "[]\n",
            "7\n",
            "[2, 1]\n",
            "1\n",
            "[2, 1, 7, 4]\n",
            "4\n",
            "[2, 1, 7, 4]\n",
            "[{'v1': 1, 'v2': 2, 'weight': 1, 'data_qubit_path': [1]}, {'v1': 4, 'v2': 7, 'weight': 1, 'data_qubit_path': [10]}]\n"
          ]
        }
      ],
      "source": [
        "#Graph Tests\n",
        "test_graph = Graph()\n",
        "#Create a graph of stabilizers with errors on 1 and 10th qubit\n",
        "for i in range(0,9):\n",
        "  test_graph.add_vertex(i)\n",
        "\n",
        "\n",
        "\n",
        "test_graph.add_edge(1,2,1,[1])\n",
        "test_graph.add_edge(1,4,1,[4])\n",
        "test_graph.add_edge(1,7,2,[4,10])\n",
        "\n",
        "test_graph.add_edge(4,7,1,[10])\n",
        "test_graph.add_edge(2,4,2,[1,4])\n",
        "test_graph.add_edge(2,7,3,[1,4,10])\n",
        "\n",
        "print(test_graph.vertexes)\n",
        "print(test_graph.edges)\n",
        "\n",
        "min_tree = test_graph.get_minimum_spanning_tree()\n",
        "print(min_tree)\n",
        "\n",
        "\n"
      ]
    },
    {
      "cell_type": "code",
      "execution_count": 81,
      "metadata": {},
      "outputs": [
        {
          "name": "stdout",
          "output_type": "stream",
          "text": [
            "Run with 1 2\n",
            "[1, 1, 1, 1, 1, 1, 1, 1, 1]\n",
            "[1, 3, 1, 1, 1, 1, 1, 1, 1]\n",
            " \n",
            "Run with 1 4\n",
            "[1, 3, 1, 1, 1, 1, 1, 1, 1]\n",
            "[1, 5, 1, 1, 1, 1, 1, 1, 1]\n",
            " \n",
            "Run with 4 7\n",
            "[1, 5, 1, 1, 1, 1, 1, 1, 1]\n",
            "[1, 7, 1, 1, 1, 1, 1, 1, 1]\n",
            " \n",
            "{0: 0, 1: 2, 2: 1, 3: 0, 4: 2, 5: 0, 6: 0, 7: 1, 8: 0}\n",
            "{0: 0, 3: 0, 5: 0, 6: 0, 8: 0, 2: 1, 7: 1, 1: 2, 4: 2}\n",
            "0\n",
            "[]\n"
          ]
        },
        {
          "ename": "KeyboardInterrupt",
          "evalue": "",
          "output_type": "error",
          "traceback": [
            "\u001b[0;31m---------------------------------------------------------------------------\u001b[0m",
            "\u001b[0;31mKeyboardInterrupt\u001b[0m                         Traceback (most recent call last)",
            "Cell \u001b[0;32mIn[81], line 1\u001b[0m\n\u001b[0;32m----> 1\u001b[0m min_tree \u001b[38;5;241m=\u001b[39m \u001b[43mtest_graph\u001b[49m\u001b[38;5;241;43m.\u001b[39;49m\u001b[43mget_minimum_spanning_tree\u001b[49m\u001b[43m(\u001b[49m\u001b[43m)\u001b[49m\n\u001b[1;32m      2\u001b[0m \u001b[38;5;28mprint\u001b[39m(min_tree)\n",
            "Cell \u001b[0;32mIn[79], line 58\u001b[0m, in \u001b[0;36mGraph.get_minimum_spanning_tree\u001b[0;34m(self)\u001b[0m\n\u001b[1;32m     56\u001b[0m \u001b[38;5;28mprint\u001b[39m(v)\n\u001b[1;32m     57\u001b[0m \u001b[38;5;28mprint\u001b[39m(vertex_used)\n\u001b[0;32m---> 58\u001b[0m \u001b[38;5;28;01mwhile\u001b[39;00m v \u001b[38;5;129;01mnot\u001b[39;00m \u001b[38;5;129;01min\u001b[39;00m vertex_used:\n\u001b[1;32m     60\u001b[0m   \u001b[38;5;28;01mfor\u001b[39;00m e \u001b[38;5;129;01min\u001b[39;00m vertex_to_edges[v]:\n\u001b[1;32m     61\u001b[0m     \u001b[38;5;28;01mif\u001b[39;00m \u001b[38;5;28mself\u001b[39m\u001b[38;5;241m.\u001b[39mget_edge_other_vertex(v,e) \u001b[38;5;129;01mnot\u001b[39;00m \u001b[38;5;129;01min\u001b[39;00m vertex_used:\n",
            "\u001b[0;31mKeyboardInterrupt\u001b[0m: "
          ]
        }
      ],
      "source": [
        "min_tree = test_graph.get_minimum_spanning_tree()\n",
        "print(min_tree)"
      ]
    },
    {
      "cell_type": "code",
      "execution_count": null,
      "metadata": {},
      "outputs": [],
      "source": [
        "test_graph_2 = Graph()\n",
        "for i in range(0,9):\n",
        "    test_graph_2.add_vertex(i)\n",
        "\n"
      ]
    },
    {
      "cell_type": "code",
      "execution_count": 4,
      "metadata": {
        "id": "AsICyhSCrtGw"
      },
      "outputs": [],
      "source": [
        "class Node:\n",
        "    def __init__(self, parent, name):\n",
        "      self.parent = parent\n",
        "      self.name = name\n",
        "      self.children = []\n",
        "\n",
        "    def add_child(self, c):\n",
        "      self.children.append(c)\n",
        "\n",
        "    def add_children(self, c):\n",
        "      self.children = self.children + c\n"
      ]
    },
    {
      "cell_type": "code",
      "execution_count": null,
      "metadata": {},
      "outputs": [],
      "source": [
        "#Test Node\n",
        "test_node = Node(None, \"p\")\n",
        "test_child1 =Node(test_node, \"c1\")\n",
        "test_child2 =Node(test_node, \"c2\")\n",
        "test_child3 =Node(test_node, \"c3\")\n",
        "\n",
        "children = [test_child2,test_child3]\n",
        "\n",
        "test_node.add_child(test_child1)\n",
        "print(test_node.children)\n",
        "\n",
        "test_node.add_children(children)\n",
        "print(test_node.children)\n"
      ]
    },
    {
      "cell_type": "code",
      "execution_count": null,
      "metadata": {
        "id": "f6SreN_EoSxo"
      },
      "outputs": [],
      "source": [
        "class Tree:\n",
        "  def __init__(self, root):\n",
        "    self.root = Node(None, root)\n",
        "    self.nodes = {root: self.root}\n",
        "  def add_to_path(self, parent, node):\n",
        "    p = self.nodes[parent]\n",
        "\n",
        "    if isinstance(node, list):\n",
        "      for n in node:\n",
        "        self.nodes[n] = Node(p, n)\n",
        "        p.add_child(self.nodes[n])\n",
        "    else:\n",
        "      self.nodes[node] = Node(p, node)\n",
        "      p.add_child(self.nodes[node])\n",
        "\n",
        "  def get_path_to_root(self, node):\n",
        "    path = []\n",
        "    distance = 0\n",
        "    n = self.nodes[node]\n",
        "    while n != None:\n",
        "      path = n.name + path\n",
        "      distance = distance + 1\n",
        "      n = n.parent\n",
        "\n",
        "    return path, distance-1\n",
        "\n",
        "\n"
      ]
    },
    {
      "cell_type": "code",
      "execution_count": null,
      "metadata": {},
      "outputs": [],
      "source": [
        "# Test Tree\n",
        "#Initalized successfully\n",
        "test_tree = Tree(1)\n",
        "print(test_tree.root)\n",
        "print(test_tree.nodes)\n",
        "\n",
        "#Test adding a single one\n",
        "test_tree.add_to_path(1,2)\n",
        "print(test_tree.nodes)\n",
        "\n",
        "#Test multi add\n",
        "test_tree.add_to_path(1,[3,4])\n",
        "print(test_tree.nodes)\n",
        "\n",
        "test_tree.add_to_path(2,5)\n",
        "print(test_tree.nodes)\n",
        "\n",
        "path, d = test_tree.get_path_to_root(5)\n",
        "print(path)\n",
        "print(d)\n",
        "\n",
        "path, d = test_tree.get_path_to_root(3)\n",
        "print(path)\n",
        "print(d)\n"
      ]
    },
    {
      "cell_type": "code",
      "execution_count": 10,
      "metadata": {
        "id": "tK-tl71ROusa"
      },
      "outputs": [],
      "source": [
        "#TODO: Add Description\n",
        "class SurfaceCode:\n",
        "\n",
        "  def __init__(self, d, T):\n",
        "    '''\n",
        "    Distance d surface code for T rounds of error correction (syndrome measurement)\n",
        "    * A surface code of distance d needs 2*d**2 physical qubits to support it the encodes the logical qubit value\n",
        "    *\n",
        "    '''\n",
        "    self.d = d\n",
        "    self.T = 0\n",
        "    #TODO: Edit to give correct (2d-1)^2\n",
        "    # SHREYA THOUGHTS: no this is not true -- d is the distance of the code = distance to the next valid state (qubit configuration). a code can correct floor((d-1)/2) errors\n",
        "    # TODO: what is n? number of physical qubits in the lattice? afaik that is (2d-1)^2 for an unrotated surface code. for toric code we have [n,k,d] = [(2d)^2, 2, d]\n",
        "    # for example we are implementing a [25, 1, 3] surface code if we're going for unrotated (this is the smallest one possible), so n = (6-1)^2 = 25\n",
        "    self.n = d - 1\n",
        "\n",
        "    #qubits\n",
        "    self.data_qubits = QuantumRegister(2*(self.n*self.n), \"data_qubits\")\n",
        "    self.x_stabilizer_qubits = QuantumRegister(self.n*self.n, \"x_stabilizer_qubits\")\n",
        "    self.z_stabilizer_qubits = QuantumRegister(self.n*self.n, \"z_stabilizer_qubits\")\n",
        "    #classical\n",
        "    self.classical_data_bits = ClassicalRegister(2*(self.n*self.n), \"classical_data_bits\")\n",
        "    self.x_syndrome_bits = ClassicalRegister((self.n*self.n), \"x_syndrome\")\n",
        "    self.z_syndrome_bits = ClassicalRegister((self.n*self.n), \"z_syndrome\")\n",
        "    self.x_old_syndrome = [0] * self.n * self.n\n",
        "    self.z_old_syndrome = [0] * self.n * self.n\n",
        "    self.circuit = QuantumCircuit(self.data_qubits, self.x_stabilizer_qubits, self.z_stabilizer_qubits, self.classical_data_bits, self.x_syndrome_bits, self.z_syndrome_bits)\n",
        "    self.registers = {\"data_qubits\", \"x_stabilizer_qubits\",\"z_stabilizer_qubits\",\"classical_data_bits\", \"x_syndrome_bits\", \"z_syndrome_bits\"}\n",
        "\n",
        "\n",
        "    self.lattice = self.construct_lattice(self.n)\n",
        "    self.x_pauli_frame = [1]*self.n*(self.n*2)\n",
        "    self.z_pauli_frame = [1]*self.n*(self.n*2)\n",
        "    self.x_generators = self.create_x_generators(self.lattice,self.n)\n",
        "    self.z_generators = self.create_z_generators(self.lattice,self.n)\n"
      ]
    },
    {
      "cell_type": "code",
      "execution_count": 13,
      "metadata": {
        "colab": {
          "base_uri": "https://localhost:8080/",
          "height": 108
        },
        "id": "AxUqvjAdwVzQ",
        "outputId": "b2a394b1-820a-4bdd-b789-7630b7d91007"
      },
      "outputs": [],
      "source": [
        "\n",
        "\n",
        "  def construct_lattice(self, n):\n",
        "    \"\"\"Constructs a lattice out of qubit indexes.\n",
        "    Each qubit is an edge - 2-D array where first row is first horionztal qubit row, second is first vertical qubit row\"\"\"\n",
        "    edges = []#np.array()\n",
        "    horizontal_edges = []\n",
        "    vertical_edges = []\n",
        "    for e in range(0,2*n):\n",
        "      #Horizontal if even, verical if odd\n",
        "      start = n*e\n",
        "      row = [*range(start,start+n)]\n",
        "      edges.append(row)\n",
        "\n",
        "      '''if e%2 == 0:\n",
        "          horizontal_edges.append(row)\n",
        "      else:\n",
        "        vertical_edges.append(row)'''\n",
        "\n",
        "    return edges\n",
        "\n",
        "  def create_x_generators(self, lattice, n):\n",
        "    '''Creates list of x genarator. X generator is a list of data qubit indexes the generator impacts.'''\n",
        "    x_gen = []\n",
        "\n",
        "    for i in range(0,n):\n",
        "      for j in range(0,n):\n",
        "        upper_edge = 2*i-1 if 2*i-1 > 0 else 2*n-1\n",
        "\n",
        "        x_gen.append([lattice[2*i][j],lattice[2*i][(j+1)%n],lattice[upper_edge][j],lattice[2*i+1][j]])\n",
        "\n",
        "    return x_gen\n",
        "\n",
        "  def create_z_generators(self, lattice, n):\n",
        "    '''Creates list of z genarator. Z generator is a list of data qubit indexes the generator impacts.'''\n",
        "    z_gen = []\n",
        "    for i in range(0,n):\n",
        "      for j in range(0,n):\n",
        "        left_edge = j-1 if j-1 > 0 else n-1\n",
        "        z_gen.append([lattice[2*i][j]\n",
        "                      ,lattice[(2*i+2)%n][j]\n",
        "                      ,lattice[2*i+1][j]\n",
        "                      ,lattice[2*i+1][left_edge]])\n",
        "    return z_gen\n",
        "\n",
        "\n",
        "  def encode_physical_qubits(self, logical_qubit):\n",
        "    #Logical qubit Encoding\n",
        "    #TODO: Encode even parity for 0, odd for 1\n",
        "    #Create superposition of all possible states where rules are followed - I think this\n",
        "    #TODO Got lost in the variable sauce and wasn't sure the exact translation into a circuit\n",
        "    self.circuit\n",
        "\n",
        "  def add_x_stabilizer_measurement(self, stabilizer_index, stabilizer):\n",
        "    '''Add a specified stabilizer to the surface circuit'''\n",
        "    self.circuit.h(self.x_stabilizer_qubits[stabilizer_index])\n",
        "    for q in stabilizer:\n",
        "      self.circuit.cx(self.x_stabilizer_qubits[stabilizer_index], self.data_qubits[q])\n",
        "\n",
        "    self.circuit.h(self.x_stabilizer_qubits[stabilizer_index])\n",
        "    self.circuit.measure(self.x_stabilizer_qubits[stabilizer_index], self.x_syndrome_bits[stabilizer_index])\n",
        "    self.circuit.barrier()\n",
        "\n",
        "  def add_z_stabilizer_measurement(self, stabilizer_index, stabilizer):\n",
        "    for q in stabilizer:\n",
        "      self.circuit.cx(self.data_qubits[q],self.z_stabilizer_qubits[stabilizer_index])\n",
        "\n",
        "    self.circuit.measure(self.z_stabilizer_qubits[stabilizer_index], self.z_syndrome_bits[stabilizer_index])\n",
        "    self.circuit.barrier()\n",
        "  def reset_circuit(self):\n",
        "    n = self.d - 1\n",
        "\n",
        "    #self.x_stabilizer_qubits = QuantumRegister(n*n, \"x_stabilizer_qubits\")\n",
        "    #self.z_stabilizer_qubits = QuantumRegister(n*n, \"z_stabilizer_qubits\")\n",
        "    #self.classical_data_bits = ClassicalRegister(2*(n*n), \"classical_data_bits\")\n",
        "    #self.x_syndrome_bits = ClassicalRegister((n*n), \"x_syndrome\")\n",
        "    #self.z_syndrome_bits = ClassicalRegister((n*n), \"z_syndrome\")\n",
        "    #self.x_old_syndrome_bits = ClassicalRegister((n*n), \"x_old_syndrome\")\n",
        "    #self.z_old_syndrome_bits = ClassicalRegister((n*n), \"z_old_syndrome\")\n",
        "\n",
        "    self.circuit = QuantumCircuit(self.data_qubits, self.x_stabilizer_qubits, self.z_stabilizer_qubits, self.classical_data_bits, self.x_syndrome_bits, self.z_syndrome_bits)\n",
        "    #self.registers = {\"data_qubits\", \"x_stabilizer_qubits\",\"z_stabilizer_qubits\",\"classical_data_bits\", \"x_syndrome\", \"z_syndrome\"}\n",
        "\n",
        "  def add_cycle_stabilizers(self):\n",
        "    \"Cycles through stabilizers and updates syndrome qubit measurements. Returns list of x syndrome flags and z syndrome flag and a boolean saying if any flags have happened.\"\n",
        "    #add stabilizer\n",
        "    for i in range(0,self.n*self.n):\n",
        "      self.add_x_stabilizer_measurement(i,self.x_generators[i])\n",
        "      self.add_z_stabilizer_measurement(i,self.z_generators[i])\n",
        "\n",
        "  def error_detection(self, backend, pm, simulator = True):\n",
        "    \"Run circuit and flags syndrome bits based expected parity.\"\n",
        "    error_exists = False\n",
        "    x_flags = [0]*self.n*self.n\n",
        "    z_flags = [0]*self.n*self.n\n",
        "    print(self.x_syndrome_bits.size)\n",
        "    #run circuit\n",
        "    if simulator:\n",
        "      result = AerSimulator().run(self.circuit).result()\n",
        "    else:\n",
        "      sampler = Sampler(backend)\n",
        "      transpiled_circuit = pm.run(self.circuit)\n",
        "      # collect stats\n",
        "      job = sampler.run([transpiled_circuit])\n",
        "      result = job.result()\n",
        "    stats = result.get_counts()\n",
        "    max = 0\n",
        "    for s in stats:\n",
        "      if max<stats[s]:\n",
        "        max = stats[s]\n",
        "        syn_string = s\n",
        "\n",
        "    print(syn_string)\n",
        "    #print(result)\n",
        "    syn = syn_string.split()\n",
        "    #TODO Check ordering first\n",
        "    x_syndrome = list(map(int, list(syn[1])))\n",
        "    z_syndrome = list(map(int, list(syn[0])))\n",
        "    #print(x_syndrome)\n",
        "    #flag errors\n",
        "    for i in range(0,self.n*self.n):\n",
        "      if abs(x_syndrome[i]-self.x_old_syndrome[i]) > 0:\n",
        "        x_flags[i] = 1\n",
        "        error_exists = True\n",
        "      if abs(z_syndrome[i]-self.z_old_syndrome[i]) > 0:\n",
        "        z_flags[i] = 1\n",
        "        error_exists = True\n",
        "\n",
        "    self.x_old_syndrome = x_syndrome.copy()\n",
        "    self.z_old_syndrome = z_syndrome.copy()\n",
        "\n",
        "    return x_flags, z_flags, error_exists, result\n",
        "\n",
        "\n",
        "  def fix_error(self, type, target):\n",
        "    \"To fix or apply an x error.\"\n",
        "    if type == \"z\":\n",
        "      self.circuit.x(target)\n",
        "    else:\n",
        "      self.circuit.z(target)\n",
        "\n",
        "\n",
        "\n",
        "  def induce_error(self, prob_x_error, prob_z_error):\n",
        "    \"Adds error to the physical bits after matrix is contructed\"\n",
        "    for q in self.data_qubits:\n",
        "      e = random.random()\n",
        "      if e < prob_x_error:\n",
        "        self.circuit.x(q)\n",
        "      e = random.random()\n",
        "      if e < prob_z_error:\n",
        "        self.circuit.z(q)\n",
        "  def update_pauli_frame(self, x_flagged_qubits, z_flagged_qubits):\n",
        "    for x in x_flagged_qubits:\n",
        "      self.z_pauli_frame[x] = self.z_pauli_frame[x]*-1\n",
        "    for z in z_flagged_qubits:\n",
        "      self.x_pauli_frame[z] = self.x_pauli_frame[z]*-1\n",
        "\n",
        "  def apply_pauli_frame(self):\n",
        "    for i in range(0,len(self.x_pauli_frame)):\n",
        "      if self.x_pauli_frame[i]<0:\n",
        "        self.circuit.x(self.data_qubits[i])\n",
        "      if self.z_pauli_frame(i)<0:\n",
        "        self.circuit.x(self.data_qubits[i])\n",
        "\n",
        "  #functions related to the decoding and error correcting process\n",
        "  def decoder_minimum_weight_perfect_matching(self, x_flags, z_flags):\n",
        "\n",
        "      x_graph, x_min_distance = self.flag_graphs(x_flags)\n",
        "      z_graph, z_min_distance = self.flag_graphs(z_flags)\n",
        "\n",
        "      x_shortest = []\n",
        "      z_shortest = []\n",
        "      for edge in x_graph.edges:\n",
        "        x = 0\n",
        "        #TODO: Optimization problem set up - CPLEX by ibm\n",
        "        #if edge[\"weight\"] == x_min_distance:\n",
        "        #  x_shortest.append(self.data_qubits_transversed_by_path(\"x\", edge[\"path\"]))\n",
        "\n",
        "      for edge in z_graph.edges:\n",
        "        y = 0\n",
        "        #if edge[\"weight\"] == z_min_distance:\n",
        "        # z_shortest.append(self.data_qubits_transversed_by_path(\"z\", edge[\"path\"]))\n",
        "\n",
        "  def data_qubits_transversed_by_path(self, type, path):\n",
        "      recovery_data = []\n",
        "\n",
        "      if type == \"z\":\n",
        "        for i in range(0,len(path)-1):\n",
        "          overlap = list(set(self.z_generators[path[i]]) & set(self.z_generators[path[i+1]]))\n",
        "          recovery_data.append(overlap[0])\n",
        "      else:\n",
        "        for i in range(0,len(path)-1):\n",
        "          overlap = list(set(self.x_generators[path[i]]) & set(self.x_generators[path[i+1]]))\n",
        "          recovery_data.append(overlap[0])\n",
        "\n",
        "      return recovery_data\n",
        "\n",
        "  def flag_graphs(self, flags):\n",
        "      \"Creates a graph between flags with the edges weights being determined by the shortest manhattan distance between them\"\n",
        "      min_distance = self.n*self.n\n",
        "      flag_graph = Graph()\n",
        "      for k in range(0, len(flags)):\n",
        "        flag_graph.add_vertex(k)\n",
        "        #creates shortest path from new vertex to all other points\n",
        "        for v in flag_graph.vertexes:\n",
        "          paths = Tree(k)\n",
        "          if v != k:\n",
        "            distance = 0\n",
        "            i1 = k/self.n\n",
        "            j1 = self.n%k\n",
        "\n",
        "            i2 = v/self.n\n",
        "            j2 = self.n%v\n",
        "\n",
        "\n",
        "            nodesToExplore = [k]\n",
        "\n",
        "            #Breadth First Search to find shortest path and save searched space as a Tree\n",
        "            while i != i2 and j != j2:\n",
        "              i = nodesToExplore[0]/self.n\n",
        "              j = self.n%nodesToExplore[0]\n",
        "\n",
        "              childUp = i - 1\n",
        "              childLeft = j-1\n",
        "              childDown = i + 1\n",
        "              childRight = j+1\n",
        "\n",
        "              paths.add_to_path(nodesToExplore[0],[self.n*childUp+j, self.n*childDown+j,self.n*i+childLeft,self.n*i+childRight])\n",
        "              nodesToExplore = nodesToExplore + [self.n*childUp+j, self.n*childDown+j,self.n*i+childLeft,self.n*i+childRight]\n",
        "              nodesToExplore.pop(0)\n",
        "\n",
        "\n",
        "            path, distance = paths.get_path_to_root(self.n*i+j)\n",
        "            if distance < min_distance:\n",
        "              min_distance = distance\n",
        "            flag_graph.add_edge(k, v, distance,path)\n",
        "          del paths\n",
        "\n",
        "      return flag_graph, min_distance\n",
        "\n",
        "  def recovery_operation(self ):\n",
        "      g = 0\n",
        "\n"
      ]
    },
    {
      "cell_type": "markdown",
      "metadata": {
        "id": "iD6XnMWW4937"
      },
      "source": [
        "# Main"
      ]
    },
    {
      "cell_type": "code",
      "execution_count": null,
      "metadata": {
        "colab": {
          "base_uri": "https://localhost:8080/"
        },
        "id": "3-p2tD9P49AB",
        "outputId": "dbd1230c-6673-40c2-b078-e709708037e5"
      },
      "outputs": [
        {
          "name": "stderr",
          "output_type": "stream",
          "text": [
            "<ipython-input-21-105c25296384>:1: DeprecationWarning: The \"ibm_quantum\" channel option is deprecated and will be sunset on 1 July. After this date, ibm_cloud will be the only valid channel. For information on migrating to the new IBM Quantum Platform on the \"ibm_cloud\" channel, review the migration guide https://quantum.cloud.ibm.com/docs/migration-guides/classic-iqp-to-cloud-iqp .\n",
            "  service = QiskitRuntimeService(token='e1816d36734769cead0ac8774d406072977fe419aad0d46927507d83a3f2741bd766526b436a3aada0b45242d3a0e7757a789b59ee123d27814f55d3a83c3b6c',channel='ibm_quantum')\n"
          ]
        }
      ],
      "source": [
        "service = QiskitRuntimeService(token='',channel='ibm_quantum')\n",
        "backend = service.least_busy(simulator = False, operational = True)\n",
        "pm = generate_preset_pass_manager(backend=backend, optimization_level=1)"
      ]
    },
    {
      "cell_type": "code",
      "execution_count": null,
      "metadata": {
        "id": "6mLKQKQ9NY6x"
      },
      "outputs": [],
      "source": [
        "#Create physical bit for state |00>\n",
        "\n",
        "#induce error\n",
        "\n",
        "#run first round of stabilizers\n",
        "\n",
        "#if error detected, record in pauli frame\n",
        "\n",
        "#repeat for several rounds\n",
        "\n",
        "#perform pauli frame corrections\n",
        "\n",
        "#measure data qubits and translate back into logical operation"
      ]
    },
    {
      "cell_type": "code",
      "execution_count": 7,
      "metadata": {
        "colab": {
          "base_uri": "https://localhost:8080/"
        },
        "id": "S4kl2Sv8vhnq",
        "outputId": "e2a70a7d-80cc-4aa6-c707-281e9c737ea3"
      },
      "outputs": [
        {
          "name": "stdout",
          "output_type": "stream",
          "text": [
            "13\n",
            "25\n"
          ]
        }
      ],
      "source": [
        "#Test lattice construction\n",
        "test = SurfaceCode(4,6)\n",
        "#Build Lattice\n",
        "n = 2\n",
        "lattice= test.construct_lattice(n)\n",
        "print(2*(n*(n+1))+1)\n",
        "expected1 = [[0, 1], [2, 3], [4, 5], [6, 7]]\n",
        "if lattice != expected1:\n",
        "  print(\"Mistake! You fool.\")\n",
        "  print(\"Expected: \")\n",
        "  print(expected1)\n",
        "  print(\"Generated: \")\n",
        "  print(lattice)\n",
        "\n",
        "n = 3\n",
        "lattice= test.construct_lattice(n)\n",
        "print(2*(n*(n+1))+1)\n",
        "expected2 = [[0, 1, 2], [3, 4, 5], [6, 7, 8], [9, 10, 11], [12, 13, 14], [15, 16, 17]]\n",
        "if lattice != expected2:\n",
        "  print(\"Mistake! You fool.\")\n",
        "  print(\"Expected: \")\n",
        "  print(expected2)\n",
        "  print(\"Generated: \")\n",
        "  print(lattice)"
      ]
    },
    {
      "cell_type": "code",
      "execution_count": null,
      "metadata": {
        "colab": {
          "base_uri": "https://localhost:8080/"
        },
        "id": "Xn5VvrU3YApI",
        "outputId": "3bcf8633-90dc-443f-c362-2ef53dff6b44"
      },
      "outputs": [
        {
          "name": "stdout",
          "output_type": "stream",
          "text": [
            "[[0, 1, 15, 3], [1, 2, 16, 4], [2, 0, 17, 5], [6, 7, 3, 9], [7, 8, 4, 10], [8, 6, 5, 11], [12, 13, 9, 15], [13, 14, 10, 16], [14, 12, 11, 17]]\n"
          ]
        }
      ],
      "source": [
        "#Check x and z generator creation\n",
        "print(test.create_x_generators(lattice,3))"
      ]
    },
    {
      "cell_type": "code",
      "execution_count": null,
      "metadata": {
        "colab": {
          "base_uri": "https://localhost:8080/"
        },
        "id": "58_719T_aFEW",
        "outputId": "3fb6190b-b821-4e4a-af11-edc66320eebf"
      },
      "outputs": [
        {
          "name": "stdout",
          "output_type": "stream",
          "text": [
            "[[0, 6, 3, 5], [1, 7, 4, 5], [2, 8, 5, 4], [6, 3, 9, 11], [7, 4, 10, 11], [8, 5, 11, 10], [12, 0, 15, 17], [13, 1, 16, 17], [14, 2, 17, 16]]\n"
          ]
        }
      ],
      "source": [
        "print(test.create_z_generators(expected2,3))"
      ]
    },
    {
      "cell_type": "markdown",
      "metadata": {
        "id": "hzytRuDIEvCH"
      },
      "source": [
        "Stabilizer Tests"
      ]
    },
    {
      "cell_type": "code",
      "execution_count": null,
      "metadata": {
        "id": "PWiiyTCMEukT"
      },
      "outputs": [],
      "source": [
        "test = SurfaceCode(4,6)\n",
        "#test.circuit.draw(output=\"mpl\")"
      ]
    },
    {
      "cell_type": "markdown",
      "metadata": {
        "id": "ZCG5aUrYHRxO"
      },
      "source": []
    },
    {
      "cell_type": "code",
      "execution_count": null,
      "metadata": {
        "id": "FEtPzqeGGQRo"
      },
      "outputs": [],
      "source": [
        "test.add_x_stabilizer_measurement(1,test.x_generators[1])"
      ]
    },
    {
      "cell_type": "code",
      "execution_count": null,
      "metadata": {
        "id": "wykKR4K9HKhP"
      },
      "outputs": [],
      "source": [
        "#test.circuit.draw(output=\"mpl\")"
      ]
    },
    {
      "cell_type": "code",
      "execution_count": null,
      "metadata": {
        "id": "4mPw95TuMsRC"
      },
      "outputs": [],
      "source": [
        "test = SurfaceCode(4,6)\n",
        "del test"
      ]
    },
    {
      "cell_type": "markdown",
      "metadata": {
        "id": "1piCVh1O3Yr_"
      },
      "source": [
        "# Testing Zone\n",
        "\n",
        "Messy area where I test for expected behavior and debug simulation. Left in for"
      ]
    },
    {
      "cell_type": "code",
      "execution_count": null,
      "metadata": {
        "id": "LPSMcYglIBlG"
      },
      "outputs": [],
      "source": [
        "#test.circuit.draw(output=\"mpl\")\n",
        "#test.add_z_stabilizer_measurement(1,test.z_generators[1])\n",
        "#test.circuit.draw(output=\"mpl\")"
      ]
    },
    {
      "cell_type": "code",
      "execution_count": null,
      "metadata": {
        "id": "_ejkxGHlRI0b"
      },
      "outputs": [],
      "source": [
        "test = SurfaceCode(4,6)"
      ]
    },
    {
      "cell_type": "code",
      "execution_count": null,
      "metadata": {
        "id": "OBLNkfP4NCJT"
      },
      "outputs": [],
      "source": [
        "#Test registers keep values after circuit cleared - failed so just going to rerun full circuit and do not reset it unless want to start over\n",
        "test.circuit.x(test.data_qubits[3])\n",
        "test.circuit.h(test.data_qubits[2])\n",
        "test.circuit.z(test.data_qubits[2])\n",
        "test.circuit.h(test.data_qubits[2])\n",
        "test.circuit.measure(3, test.x_syndrome_bits[2])\n",
        "test.circuit.measure(2, test.x_syndrome_bits[3])\n",
        "\n",
        "result = AerSimulator().run(test.circuit).result()"
      ]
    },
    {
      "cell_type": "code",
      "execution_count": null,
      "metadata": {
        "colab": {
          "base_uri": "https://localhost:8080/"
        },
        "id": "heAfQpwMSngS",
        "outputId": "3d918a34-1bbf-4def-9603-1f9ab8931371"
      },
      "outputs": [
        {
          "name": "stdout",
          "output_type": "stream",
          "text": [
            "{'000000000 000001100 000000000000000000': 1024}\n"
          ]
        }
      ],
      "source": [
        "print(result.get_counts())"
      ]
    },
    {
      "cell_type": "code",
      "execution_count": null,
      "metadata": {
        "id": "FrjMBppfSB16"
      },
      "outputs": [],
      "source": [
        "\n",
        "#test.circuit = QuantumCircuit(test.data_qubits, test.x_stabilizer_qubits, test.z_stabilizer_qubits, test.classical_data_bits, test.x_syndrome_bits, test.z_syndrome_bits)\n",
        "test.circuit.measure(0, test.x_syndrome_bits[5])\n",
        "result = AerSimulator().run(test.circuit).result()"
      ]
    },
    {
      "cell_type": "code",
      "execution_count": null,
      "metadata": {
        "colab": {
          "base_uri": "https://localhost:8080/"
        },
        "id": "EN4JsROTQMPY",
        "outputId": "2333c6fa-80e3-46a3-b9b3-d37e7ba70928"
      },
      "outputs": [
        {
          "name": "stdout",
          "output_type": "stream",
          "text": [
            "{'000000000 000001100 000000000000000000': 1024}\n"
          ]
        }
      ],
      "source": [
        "print(result.get_counts())"
      ]
    },
    {
      "cell_type": "code",
      "execution_count": null,
      "metadata": {
        "id": "O28afZNVy8KZ"
      },
      "outputs": [],
      "source": [
        "def add_x_stabilizer_measurement(self, stabilizer_index, stabilizer):\n",
        "    '''Add a specified stabilizer to the surface circuit'''\n",
        "    test.circuit.h(test.x_stabilizer_qubits[stabilizer_index])\n",
        "    for q in stabilizer:\n",
        "      test.circuit.cx(test.x_stabilizer_qubits[stabilizer_index], test.data_qubits[q])\n",
        "\n",
        "    test.circuit.h(test.x_stabilizer_qubits[stabilizer_index])\n",
        "    test.circuit.measure(test.x_stabilizer_qubits[stabilizer_index], test.x_syndrome_bits[stabilizer_index])\n",
        "    test.circuit.barrier()"
      ]
    },
    {
      "cell_type": "code",
      "execution_count": null,
      "metadata": {
        "colab": {
          "base_uri": "https://localhost:8080/",
          "height": 382
        },
        "id": "pvUmUoplVlAQ",
        "outputId": "554af960-6ed7-4161-bcba-4c3058d7576f"
      },
      "outputs": [
        {
          "name": "stdout",
          "output_type": "stream",
          "text": [
            "9\n"
          ]
        },
        {
          "ename": "QiskitError",
          "evalue": "'No counts for experiment \"0\"'",
          "output_type": "error",
          "traceback": [
            "\u001b[0;31m---------------------------------------------------------------------------\u001b[0m",
            "\u001b[0;31mQiskitError\u001b[0m                               Traceback (most recent call last)",
            "\u001b[0;32m<ipython-input-36-b98d0d710731>\u001b[0m in \u001b[0;36m<cell line: 0>\u001b[0;34m()\u001b[0m\n\u001b[1;32m      1\u001b[0m \u001b[0mtest\u001b[0m \u001b[0;34m=\u001b[0m \u001b[0mSurfaceCode\u001b[0m\u001b[0;34m(\u001b[0m\u001b[0;36m4\u001b[0m\u001b[0;34m,\u001b[0m\u001b[0;36m6\u001b[0m\u001b[0;34m)\u001b[0m\u001b[0;34m\u001b[0m\u001b[0;34m\u001b[0m\u001b[0m\n\u001b[0;32m----> 2\u001b[0;31m \u001b[0mtest\u001b[0m\u001b[0;34m.\u001b[0m\u001b[0merror_detection\u001b[0m\u001b[0;34m(\u001b[0m\u001b[0;32mNone\u001b[0m\u001b[0;34m,\u001b[0m \u001b[0;32mNone\u001b[0m\u001b[0;34m,\u001b[0m \u001b[0msimulator\u001b[0m \u001b[0;34m=\u001b[0m \u001b[0;32mTrue\u001b[0m\u001b[0;34m)\u001b[0m\u001b[0;34m\u001b[0m\u001b[0;34m\u001b[0m\u001b[0m\n\u001b[0m\u001b[1;32m      3\u001b[0m \u001b[0;31m#test.circuit.h(test.data_qubits[0])\u001b[0m\u001b[0;34m\u001b[0m\u001b[0;34m\u001b[0m\u001b[0m\n\u001b[1;32m      4\u001b[0m \u001b[0;31m#test.circuit.x(test.data_qubits[0])\u001b[0m\u001b[0;34m\u001b[0m\u001b[0;34m\u001b[0m\u001b[0m\n\u001b[1;32m      5\u001b[0m \u001b[0;31m#test.add_z_stabilizer_measurement(0, test.z_generators[0])\u001b[0m\u001b[0;34m\u001b[0m\u001b[0;34m\u001b[0m\u001b[0m\n",
            "\u001b[0;32m<ipython-input-20-a2b7e0f5fe28>\u001b[0m in \u001b[0;36merror_detection\u001b[0;34m(self, backend, pm, simulator)\u001b[0m\n\u001b[1;32m    138\u001b[0m       \u001b[0mjob\u001b[0m \u001b[0;34m=\u001b[0m \u001b[0msampler\u001b[0m\u001b[0;34m.\u001b[0m\u001b[0mrun\u001b[0m\u001b[0;34m(\u001b[0m\u001b[0;34m[\u001b[0m\u001b[0mtranspiled_circuit\u001b[0m\u001b[0;34m]\u001b[0m\u001b[0;34m)\u001b[0m\u001b[0;34m\u001b[0m\u001b[0;34m\u001b[0m\u001b[0m\n\u001b[1;32m    139\u001b[0m       \u001b[0mresult\u001b[0m \u001b[0;34m=\u001b[0m \u001b[0mjob\u001b[0m\u001b[0;34m.\u001b[0m\u001b[0mresult\u001b[0m\u001b[0;34m(\u001b[0m\u001b[0;34m)\u001b[0m\u001b[0;34m\u001b[0m\u001b[0;34m\u001b[0m\u001b[0m\n\u001b[0;32m--> 140\u001b[0;31m     \u001b[0mstats\u001b[0m \u001b[0;34m=\u001b[0m \u001b[0mresult\u001b[0m\u001b[0;34m.\u001b[0m\u001b[0mget_counts\u001b[0m\u001b[0;34m(\u001b[0m\u001b[0;34m)\u001b[0m\u001b[0;34m\u001b[0m\u001b[0;34m\u001b[0m\u001b[0m\n\u001b[0m\u001b[1;32m    141\u001b[0m     \u001b[0mmax\u001b[0m \u001b[0;34m=\u001b[0m \u001b[0;36m0\u001b[0m\u001b[0;34m\u001b[0m\u001b[0;34m\u001b[0m\u001b[0m\n\u001b[1;32m    142\u001b[0m     \u001b[0;32mfor\u001b[0m \u001b[0ms\u001b[0m \u001b[0;32min\u001b[0m \u001b[0mstats\u001b[0m\u001b[0;34m:\u001b[0m\u001b[0;34m\u001b[0m\u001b[0;34m\u001b[0m\u001b[0m\n",
            "\u001b[0;32m/usr/local/lib/python3.11/dist-packages/qiskit/result/result.py\u001b[0m in \u001b[0;36mget_counts\u001b[0;34m(self, experiment)\u001b[0m\n\u001b[1;32m    274\u001b[0m                 \u001b[0mdict_list\u001b[0m\u001b[0;34m.\u001b[0m\u001b[0mappend\u001b[0m\u001b[0;34m(\u001b[0m\u001b[0mstatevector\u001b[0m\u001b[0;34m.\u001b[0m\u001b[0mStatevector\u001b[0m\u001b[0;34m(\u001b[0m\u001b[0mvec\u001b[0m\u001b[0;34m)\u001b[0m\u001b[0;34m.\u001b[0m\u001b[0mprobabilities_dict\u001b[0m\u001b[0;34m(\u001b[0m\u001b[0mdecimals\u001b[0m\u001b[0;34m=\u001b[0m\u001b[0;36m15\u001b[0m\u001b[0;34m)\u001b[0m\u001b[0;34m)\u001b[0m\u001b[0;34m\u001b[0m\u001b[0;34m\u001b[0m\u001b[0m\n\u001b[1;32m    275\u001b[0m             \u001b[0;32melse\u001b[0m\u001b[0;34m:\u001b[0m\u001b[0;34m\u001b[0m\u001b[0;34m\u001b[0m\u001b[0m\n\u001b[0;32m--> 276\u001b[0;31m                 \u001b[0;32mraise\u001b[0m \u001b[0mQiskitError\u001b[0m\u001b[0;34m(\u001b[0m\u001b[0;34mf'No counts for experiment \"{repr(key)}\"'\u001b[0m\u001b[0;34m)\u001b[0m\u001b[0;34m\u001b[0m\u001b[0;34m\u001b[0m\u001b[0m\n\u001b[0m\u001b[1;32m    277\u001b[0m \u001b[0;34m\u001b[0m\u001b[0m\n\u001b[1;32m    278\u001b[0m         \u001b[0;31m# Return first item of dict_list if size is 1\u001b[0m\u001b[0;34m\u001b[0m\u001b[0;34m\u001b[0m\u001b[0m\n",
            "\u001b[0;31mQiskitError\u001b[0m: 'No counts for experiment \"0\"'"
          ]
        }
      ],
      "source": [
        "test = SurfaceCode(4,6)\n",
        "test.error_detection(None, None, simulator = True)\n",
        "#test.circuit.h(test.data_qubits[0])\n",
        "#test.circuit.x(test.data_qubits[0])\n",
        "#test.add_z_stabilizer_measurement(0, test.z_generators[0])\n",
        "#test.circuit.x(test.z_syndrome_bits[0])\n",
        "'''test.circuit.x(test.data_qubits[0])\n",
        "test.circuit.h(test.x_stabilizer_qubits[0])\n",
        "print(test.x_generators[0])\n",
        "gen = test.x_generators[0]\n",
        "test.circuit.cx(test.data_qubits[gen[0]],test.x_stabilizer_qubits[0])\n",
        "test.circuit.h(test.x_stabilizer_qubits[0])\n",
        "test.add_x_stabilizer_measurement(1,test.x_generators[1])\n",
        "for i in range(0,4):\n",
        "  test.circuit.measure(test.z_stabilizer_qubits[i], test.z_syndrome_bits[i])\n",
        "  test.circuit.measure(test.x_stabilizer_qubits[i], test.x_syndrome_bits[i])\n",
        "\n",
        "print(test.z_generators[0])\n",
        "#test.circuit.x(test.data_qubits[0])\n",
        "#test.circuit.z(test.data_qubits[2])\n",
        "#test.add_cycle_stabilizers()\n",
        "#test.circuit.measure(test.x_stabilizer_qubits, test.x_syndrome_bits)\n",
        "test.circuit.measure(test.data_qubits,test.classical_data_bits)\n",
        "test.circuit.draw(output=\"mpl\")'''\n"
      ]
    },
    {
      "cell_type": "code",
      "execution_count": null,
      "metadata": {
        "id": "B1rdcNczaJ5F"
      },
      "outputs": [],
      "source": [
        "\n",
        "x, z, error, result = test.error_detection(None, None, True)\n",
        "c = list(result.get_counts().items())[:10]\n",
        "display(plot_histogram(dict(c)))\n",
        "if error:\n",
        "  print(x)\n",
        "  print(z)"
      ]
    },
    {
      "cell_type": "code",
      "execution_count": null,
      "metadata": {},
      "outputs": [
        {
          "name": "stdout",
          "output_type": "stream",
          "text": [
            " \n",
            "Test 1: No Repeat Union\n",
            " \n",
            "[0, 1, 2, 3, 4, 5]\n",
            "[[], [], [], [], [], []]\n",
            "[1, 1, 1, 1, 1, 1]\n",
            "Run with 0 1\n",
            "[1, 1, 1, 1, 1, 1]\n",
            "[3, 1, 1, 1, 1, 1]\n",
            " \n",
            " \n",
            "Run with 0 1\n",
            "[3, 1, 1, 1, 1, 1]\n",
            "[3, 1, 1, 1, 1, 1]\n",
            " \n",
            "[0, 0, 2, 3, 4, 5]\n",
            "[[[0, 1]], [[0, 1]], [], [], [], []]\n",
            "[3, 1, 1, 1, 1, 1]\n",
            " \n",
            "Test 2: Multi Union\n",
            " \n",
            "[0, 0, 2, 3, 4, 5]\n",
            "[[[0, 1]], [[0, 1]], [], [], [], []]\n",
            "[3, 1, 1, 1, 1, 1]\n",
            "Run with 0 1\n",
            "[3, 1, 1, 1, 1, 1]\n",
            "[3, 1, 1, 1, 1, 1]\n",
            " \n",
            " \n",
            "Run with 2 3\n",
            "[3, 1, 1, 1, 1, 1]\n",
            "[3, 1, 3, 1, 1, 1]\n",
            " \n",
            " \n",
            "Run with 4 5\n",
            "[3, 1, 3, 1, 1, 1]\n",
            "[3, 1, 3, 1, 3, 1]\n",
            " \n",
            " \n",
            "[0, 0, 2, 2, 4, 4]\n",
            "[[[0, 1]], [[0, 1]], [[2, 3]], [[2, 3]], [[4, 5]], [[4, 5]]]\n",
            "[3, 1, 3, 1, 3, 1]\n",
            " \n",
            "Run with 1 3\n",
            "[3, 1, 3, 1, 3, 1]\n",
            "[7, 1, 3, 1, 3, 1]\n",
            " \n",
            " \n",
            "[0, 0, 0, 2, 4, 4]\n",
            "[[[0, 1], [2, 3], [3, 3]], [[0, 1]], [[2, 3], [3, 3]], [[2, 3]], [[4, 5]], [[4, 5]]]\n",
            "[7, 1, 3, 1, 3, 1]\n"
          ]
        }
      ],
      "source": [
        "#Test DisjointSet\n",
        "v = 6\n",
        "edgesComplete = []\n",
        "for i in range(0,v):\n",
        "    for j in range(i+1,v):\n",
        "        edgesComplete.append([i,j])\n",
        "\n",
        "dj = DisjointSet(6)\n",
        "print(\" \")\n",
        "print(\"Test 1: No Repeat Union\")\n",
        "print(\" \")\n",
        "#Union\n",
        "print(dj.parent)\n",
        "print(dj.paths)\n",
        "print(dj.rank)\n",
        "dj.union(0,1,[0,1])\n",
        "print(\" \")\n",
        "#Check that same edge can't be added twice\n",
        "dj.union(0,1,[0,1])\n",
        "print(dj.parent)\n",
        "print(dj.paths)\n",
        "print(dj.rank)\n",
        "\n",
        "print(\" \")\n",
        "print(\"Test 2: Multi Union\")\n",
        "print(\" \")\n",
        "\n",
        "print(dj.parent)\n",
        "print(dj.paths)\n",
        "print(dj.rank)\n",
        "dj.union(0,1,{\"v1\":0,\"v2\":1})\n",
        "print(\" \")\n",
        "#Check that same edge can't be added twice\n",
        "dj.union(2,3,[2,3])\n",
        "print(\" \")\n",
        "dj.union(4,5,[4,5])\n",
        "print(\" \")\n",
        "\n",
        "print(dj.parent)\n",
        "print(dj.paths)\n",
        "print(dj.rank)\n",
        "print(\" \")\n",
        "dj.union(1,3,[3,3])\n",
        "print(\" \")\n",
        "print(dj.parent)\n",
        "print(dj.paths)\n",
        "print(dj.rank)"
      ]
    },
    {
      "cell_type": "code",
      "execution_count": null,
      "metadata": {
        "id": "fniBIAjtvX2F"
      },
      "outputs": [],
      "source": [
        "test.circuit.draw(output=\"mpl\")"
      ]
    },
    {
      "cell_type": "code",
      "execution_count": null,
      "metadata": {
        "id": "SsidhtSirrox"
      },
      "outputs": [],
      "source": [
        "#Test that encoder gets circuit set up properly"
      ]
    },
    {
      "cell_type": "code",
      "execution_count": null,
      "metadata": {
        "id": "XMm40xa0Hslq"
      },
      "outputs": [],
      "source": [
        "#Construct cicuit and starting state\n",
        "#Induce errors\n",
        "#Run error correcting scheme\n",
        "#Test on simulator\n",
        "\n"
      ]
    },
    {
      "cell_type": "code",
      "execution_count": null,
      "metadata": {
        "id": "05RYuui4Hvt0"
      },
      "outputs": [],
      "source": [
        "#Run on IBM computers\n",
        "#Test three different starting states"
      ]
    },
    {
      "cell_type": "code",
      "execution_count": null,
      "metadata": {
        "id": "UZeQpKgJHyXn"
      },
      "outputs": [],
      "source": [
        "#Results vsiualization"
      ]
    },
    {
      "cell_type": "markdown",
      "metadata": {
        "id": "HmB05LA0FGVM"
      },
      "source": [
        "Resources used:\n",
        "* https://arthurpesah.me/blog/2023-05-13-surface-code/\n",
        "* https://errorcorrectionzoo.org/c/rotated_surface\n",
        "* https://errorcorrectionzoo.org/c/stab_4_2_2\n",
        "* https://github.com/quantumjim/qec_lectures/blob/main/lecture-1.ipynb\n",
        "* https://www.youtube.com/watch?v=M25fBmF9XR0\n",
        "* https://github.com/The-Singularity-Research/QISKit-Surface-Codes?tab=readme-ov-file\n",
        "\n",
        "This last link is very reader friendly and straightforward.\n",
        "* https://decodoku.blogspot.com/2016/03/8-toric-code-part-3.html\n",
        "\n",
        "Original Paper\n",
        "* https://arxiv.org/pdf/quant-ph/9811052\n",
        "\n",
        "Really good paper on nitty gritty on measuring stabilizer qubits\n",
        "* https://pure.tue.nl/ws/portalfiles/portal/318595789/1011230_-_Snijders_J.A.C._-_MSc_thesis_Thesis_-_MAP.pdf"
      ]
    },
    {
      "cell_type": "markdown",
      "metadata": {
        "id": "Bazs3cc_98EG"
      },
      "source": [
        "Implementing a rotated surface code, as far as I understand it:\n",
        "\n",
        "1. Initialize qubits\n",
        "   - Define grid size for a rotated surface code of distance d.\n",
        "     - This means the number of data qubits (physical non-ancilla qubits) is d^2.\n",
        "     - 3x3 grid ==> 9 data qubits.\n",
        "\n",
        "2. Create a lattice:\n",
        "   - Let each qubit be a vertex in a d×d grid.\n",
        "   - Assign a qubit to each of the vertices on the grid.\n",
        "\n",
        "3. Initialize the logical qubit:\n",
        "   - Apply a **logical \\(X\\)** and/or **logical \\(Z\\)** operator to encode the logical qubit (e.g., by applying a chain of qubits across rows and columns).\n",
        "    - I'm not suuuuper clear on the nitty gritty of this part...but I imagine we can use the same circuits as the toric code paper? Should be fine as long as we keep track of boundary conditions\n",
        "\n",
        "4. Apply stabilizer measurements (star and plaquette):\n",
        "   - A star stabilizer acts on a qubit and its neighboring qubits (connected to a vertex).\n",
        "   - A plaquette stabilizer acts on four qubits in a square arrangement.\n",
        "   - Apply each stabilizer by measuring the state of neighboring qubits:\n",
        "     - For each **plaquette stabilizer**:\n",
        "       - Measure the parity of four qubits that form a square (e.g., top-left, top-right, bottom-left, bottom-right of a plaquette).\n",
        "     - For each **star stabilizer**:\n",
        "       - Measure the parity of four qubits connected to a vertex.\n",
        "\n",
        "5. Syndrome measurement:\n",
        "   - Measure the stabilizers (parity of qubits) to detect errors.\n",
        "   - If the syndrome indicates an error (for example, a flipped bit), you can to correct the error by applying the appropriate gate\n",
        "   - Store the syndrome outcome (e.g., which stabilizers detected an error)\n",
        "   - Do we want to do this Pauli frame stuff? That would go here ish\n",
        "\n",
        "6. Error correction (move this to later if we do PF):\n",
        "   - If the syndrome indicates a flipped bit or phase, apply a correction based on the syndrome information\n",
        "\n",
        "7. Iterate:\n",
        "   - Repeat the process for each time step until the logical qubit is read out with high fidelity.\n",
        "\n",
        "8. Logical qubit measurement:\n",
        "   - PF corrections go here if we do that.\n",
        "   - Once error correction is complete, measure the logical qubit to extract the result.\n",
        "\n",
        "9. Return the result:\n",
        "   - The final measurement outcome is the state of the logical qubit after the error correction process.\n",
        "\n"
      ]
    },
    {
      "cell_type": "code",
      "execution_count": null,
      "metadata": {
        "id": "KMKNeuqC_oJy"
      },
      "outputs": [],
      "source": []
    }
  ],
  "metadata": {
    "colab": {
      "provenance": []
    },
    "kernelspec": {
      "display_name": "Python 3",
      "name": "python3"
    },
    "language_info": {
      "codemirror_mode": {
        "name": "ipython",
        "version": 3
      },
      "file_extension": ".py",
      "mimetype": "text/x-python",
      "name": "python",
      "nbconvert_exporter": "python",
      "pygments_lexer": "ipython3",
      "version": "3.13.0"
    }
  },
  "nbformat": 4,
  "nbformat_minor": 0
}
