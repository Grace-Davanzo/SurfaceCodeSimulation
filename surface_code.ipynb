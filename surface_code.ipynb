{
  "cells": [
    {
      "cell_type": "code",
      "execution_count": null,
      "metadata": {
        "colab": {
          "base_uri": "https://localhost:8080/"
        },
        "collapsed": true,
        "id": "lxM3ZuZfDYTa",
        "outputId": "f7a64821-1bbc-4803-db79-d62a2842f3ca"
      },
      "outputs": [
        {
          "name": "stdout",
          "output_type": "stream",
          "text": [
            "Requirement already satisfied: qiskit in /usr/local/lib/python3.11/dist-packages (2.0.0)\n",
            "Requirement already satisfied: rustworkx>=0.15.0 in /usr/local/lib/python3.11/dist-packages (from qiskit) (0.16.0)\n",
            "Requirement already satisfied: numpy<3,>=1.17 in /usr/local/lib/python3.11/dist-packages (from qiskit) (2.0.2)\n",
            "Requirement already satisfied: scipy>=1.5 in /usr/local/lib/python3.11/dist-packages (from qiskit) (1.14.1)\n",
            "Requirement already satisfied: sympy>=1.3 in /usr/local/lib/python3.11/dist-packages (from qiskit) (1.13.1)\n",
            "Requirement already satisfied: dill>=0.3 in /usr/local/lib/python3.11/dist-packages (from qiskit) (0.4.0)\n",
            "Requirement already satisfied: python-dateutil>=2.8.0 in /usr/local/lib/python3.11/dist-packages (from qiskit) (2.8.2)\n",
            "Requirement already satisfied: stevedore>=3.0.0 in /usr/local/lib/python3.11/dist-packages (from qiskit) (5.4.1)\n",
            "Requirement already satisfied: typing-extensions in /usr/local/lib/python3.11/dist-packages (from qiskit) (4.13.2)\n",
            "Requirement already satisfied: symengine<0.14,>=0.11 in /usr/local/lib/python3.11/dist-packages (from qiskit) (0.13.0)\n",
            "Requirement already satisfied: six>=1.5 in /usr/local/lib/python3.11/dist-packages (from python-dateutil>=2.8.0->qiskit) (1.17.0)\n",
            "Requirement already satisfied: pbr>=2.0.0 in /usr/local/lib/python3.11/dist-packages (from stevedore>=3.0.0->qiskit) (6.1.1)\n",
            "Requirement already satisfied: mpmath<1.4,>=1.1.0 in /usr/local/lib/python3.11/dist-packages (from sympy>=1.3->qiskit) (1.3.0)\n",
            "Requirement already satisfied: setuptools in /usr/local/lib/python3.11/dist-packages (from pbr>=2.0.0->stevedore>=3.0.0->qiskit) (75.2.0)\n",
            "Requirement already satisfied: pylatexenc in /usr/local/lib/python3.11/dist-packages (2.10)\n",
            "Requirement already satisfied: qiskit_aer in /usr/local/lib/python3.11/dist-packages (0.17.0)\n",
            "Requirement already satisfied: qiskit>=1.1.0 in /usr/local/lib/python3.11/dist-packages (from qiskit_aer) (2.0.0)\n",
            "Requirement already satisfied: numpy>=1.16.3 in /usr/local/lib/python3.11/dist-packages (from qiskit_aer) (2.0.2)\n",
            "Requirement already satisfied: scipy>=1.0 in /usr/local/lib/python3.11/dist-packages (from qiskit_aer) (1.14.1)\n",
            "Requirement already satisfied: psutil>=5 in /usr/local/lib/python3.11/dist-packages (from qiskit_aer) (5.9.5)\n",
            "Requirement already satisfied: rustworkx>=0.15.0 in /usr/local/lib/python3.11/dist-packages (from qiskit>=1.1.0->qiskit_aer) (0.16.0)\n",
            "Requirement already satisfied: sympy>=1.3 in /usr/local/lib/python3.11/dist-packages (from qiskit>=1.1.0->qiskit_aer) (1.13.1)\n",
            "Requirement already satisfied: dill>=0.3 in /usr/local/lib/python3.11/dist-packages (from qiskit>=1.1.0->qiskit_aer) (0.4.0)\n",
            "Requirement already satisfied: python-dateutil>=2.8.0 in /usr/local/lib/python3.11/dist-packages (from qiskit>=1.1.0->qiskit_aer) (2.8.2)\n",
            "Requirement already satisfied: stevedore>=3.0.0 in /usr/local/lib/python3.11/dist-packages (from qiskit>=1.1.0->qiskit_aer) (5.4.1)\n",
            "Requirement already satisfied: typing-extensions in /usr/local/lib/python3.11/dist-packages (from qiskit>=1.1.0->qiskit_aer) (4.13.2)\n",
            "Requirement already satisfied: symengine<0.14,>=0.11 in /usr/local/lib/python3.11/dist-packages (from qiskit>=1.1.0->qiskit_aer) (0.13.0)\n",
            "Requirement already satisfied: six>=1.5 in /usr/local/lib/python3.11/dist-packages (from python-dateutil>=2.8.0->qiskit>=1.1.0->qiskit_aer) (1.17.0)\n",
            "Requirement already satisfied: pbr>=2.0.0 in /usr/local/lib/python3.11/dist-packages (from stevedore>=3.0.0->qiskit>=1.1.0->qiskit_aer) (6.1.1)\n",
            "Requirement already satisfied: mpmath<1.4,>=1.1.0 in /usr/local/lib/python3.11/dist-packages (from sympy>=1.3->qiskit>=1.1.0->qiskit_aer) (1.3.0)\n",
            "Requirement already satisfied: setuptools in /usr/local/lib/python3.11/dist-packages (from pbr>=2.0.0->stevedore>=3.0.0->qiskit>=1.1.0->qiskit_aer) (75.2.0)\n",
            "Requirement already satisfied: qiskit_ibm_runtime in /usr/local/lib/python3.11/dist-packages (0.38.0)\n",
            "Requirement already satisfied: requests>=2.19 in /usr/local/lib/python3.11/dist-packages (from qiskit_ibm_runtime) (2.32.3)\n",
            "Requirement already satisfied: requests-ntlm>=1.1.0 in /usr/local/lib/python3.11/dist-packages (from qiskit_ibm_runtime) (1.3.0)\n",
            "Requirement already satisfied: numpy>=1.13 in /usr/local/lib/python3.11/dist-packages (from qiskit_ibm_runtime) (2.0.2)\n",
            "Requirement already satisfied: urllib3>=1.21.1 in /usr/local/lib/python3.11/dist-packages (from qiskit_ibm_runtime) (2.3.0)\n",
            "Requirement already satisfied: python-dateutil>=2.8.0 in /usr/local/lib/python3.11/dist-packages (from qiskit_ibm_runtime) (2.8.2)\n",
            "Requirement already satisfied: ibm-platform-services>=0.22.6 in /usr/local/lib/python3.11/dist-packages (from qiskit_ibm_runtime) (0.63.0)\n",
            "Requirement already satisfied: pydantic<2.10,>=2.5.0 in /usr/local/lib/python3.11/dist-packages (from qiskit_ibm_runtime) (2.9.2)\n",
            "Requirement already satisfied: qiskit>=1.4.1 in /usr/local/lib/python3.11/dist-packages (from qiskit_ibm_runtime) (2.0.0)\n",
            "Requirement already satisfied: packaging in /usr/local/lib/python3.11/dist-packages (from qiskit_ibm_runtime) (24.2)\n",
            "Requirement already satisfied: ibm_cloud_sdk_core<4.0.0,>=3.22.1 in /usr/local/lib/python3.11/dist-packages (from ibm-platform-services>=0.22.6->qiskit_ibm_runtime) (3.23.0)\n",
            "Requirement already satisfied: annotated-types>=0.6.0 in /usr/local/lib/python3.11/dist-packages (from pydantic<2.10,>=2.5.0->qiskit_ibm_runtime) (0.7.0)\n",
            "Requirement already satisfied: pydantic-core==2.23.4 in /usr/local/lib/python3.11/dist-packages (from pydantic<2.10,>=2.5.0->qiskit_ibm_runtime) (2.23.4)\n",
            "Requirement already satisfied: typing-extensions>=4.6.1 in /usr/local/lib/python3.11/dist-packages (from pydantic<2.10,>=2.5.0->qiskit_ibm_runtime) (4.13.2)\n",
            "Requirement already satisfied: six>=1.5 in /usr/local/lib/python3.11/dist-packages (from python-dateutil>=2.8.0->qiskit_ibm_runtime) (1.17.0)\n",
            "Requirement already satisfied: rustworkx>=0.15.0 in /usr/local/lib/python3.11/dist-packages (from qiskit>=1.4.1->qiskit_ibm_runtime) (0.16.0)\n",
            "Requirement already satisfied: scipy>=1.5 in /usr/local/lib/python3.11/dist-packages (from qiskit>=1.4.1->qiskit_ibm_runtime) (1.14.1)\n",
            "Requirement already satisfied: sympy>=1.3 in /usr/local/lib/python3.11/dist-packages (from qiskit>=1.4.1->qiskit_ibm_runtime) (1.13.1)\n",
            "Requirement already satisfied: dill>=0.3 in /usr/local/lib/python3.11/dist-packages (from qiskit>=1.4.1->qiskit_ibm_runtime) (0.4.0)\n",
            "Requirement already satisfied: stevedore>=3.0.0 in /usr/local/lib/python3.11/dist-packages (from qiskit>=1.4.1->qiskit_ibm_runtime) (5.4.1)\n",
            "Requirement already satisfied: symengine<0.14,>=0.11 in /usr/local/lib/python3.11/dist-packages (from qiskit>=1.4.1->qiskit_ibm_runtime) (0.13.0)\n",
            "Requirement already satisfied: charset-normalizer<4,>=2 in /usr/local/lib/python3.11/dist-packages (from requests>=2.19->qiskit_ibm_runtime) (3.4.1)\n",
            "Requirement already satisfied: idna<4,>=2.5 in /usr/local/lib/python3.11/dist-packages (from requests>=2.19->qiskit_ibm_runtime) (3.10)\n",
            "Requirement already satisfied: certifi>=2017.4.17 in /usr/local/lib/python3.11/dist-packages (from requests>=2.19->qiskit_ibm_runtime) (2025.1.31)\n",
            "Requirement already satisfied: cryptography>=1.3 in /usr/local/lib/python3.11/dist-packages (from requests-ntlm>=1.1.0->qiskit_ibm_runtime) (43.0.3)\n",
            "Requirement already satisfied: pyspnego>=0.4.0 in /usr/local/lib/python3.11/dist-packages (from requests-ntlm>=1.1.0->qiskit_ibm_runtime) (0.11.2)\n",
            "Requirement already satisfied: cffi>=1.12 in /usr/local/lib/python3.11/dist-packages (from cryptography>=1.3->requests-ntlm>=1.1.0->qiskit_ibm_runtime) (1.17.1)\n",
            "Requirement already satisfied: PyJWT<3.0.0,>=2.8.0 in /usr/local/lib/python3.11/dist-packages (from ibm_cloud_sdk_core<4.0.0,>=3.22.1->ibm-platform-services>=0.22.6->qiskit_ibm_runtime) (2.10.1)\n",
            "Requirement already satisfied: pbr>=2.0.0 in /usr/local/lib/python3.11/dist-packages (from stevedore>=3.0.0->qiskit>=1.4.1->qiskit_ibm_runtime) (6.1.1)\n",
            "Requirement already satisfied: mpmath<1.4,>=1.1.0 in /usr/local/lib/python3.11/dist-packages (from sympy>=1.3->qiskit>=1.4.1->qiskit_ibm_runtime) (1.3.0)\n",
            "Requirement already satisfied: pycparser in /usr/local/lib/python3.11/dist-packages (from cffi>=1.12->cryptography>=1.3->requests-ntlm>=1.1.0->qiskit_ibm_runtime) (2.22)\n",
            "Requirement already satisfied: setuptools in /usr/local/lib/python3.11/dist-packages (from pbr>=2.0.0->stevedore>=3.0.0->qiskit>=1.4.1->qiskit_ibm_runtime) (75.2.0)\n"
          ]
        }
      ],
      "source": [
        "%pip install qiskit\n",
        "%pip install pylatexenc\n",
        "%pip install qiskit_aer\n",
        "%pip install qiskit_ibm_runtime"
      ]
    },
    {
      "cell_type": "code",
      "execution_count": 1,
      "metadata": {
        "id": "ARad-w_dCYjz"
      },
      "outputs": [],
      "source": [
        "import numpy as np\n",
        "from qiskit import QuantumRegister, ClassicalRegister, QuantumCircuit\n",
        "import matplotlib\n",
        "import qiskit_aer\n",
        "import pylatexenc\n",
        "import random\n",
        "import qiskit\n",
        "from scipy.optimize import minimize\n",
        "\n",
        "from qiskit.visualization import plot_bloch_multivector, plot_histogram\n",
        "from qiskit_aer import AerSimulator\n",
        "from qiskit_ibm_runtime import QiskitRuntimeService\n",
        "from qiskit_ibm_runtime import EstimatorV2 as Estimator\n",
        "from qiskit_ibm_runtime import SamplerV2 as Sampler\n",
        "from qiskit.transpiler.preset_passmanagers import generate_preset_pass_manager"
      ]
    },
    {
      "cell_type": "markdown",
      "metadata": {
        "id": "8MG9mU-kwOsl"
      },
      "source": [
        "# Implementing and benchmarking the 3-qubit surface code"
      ]
    },
    {
      "cell_type": "markdown",
      "metadata": {
        "id": "C3CgQkynxspX"
      },
      "source": [
        "## My best estimate for the pseudocode/components we'll need\n",
        "\n",
        "#### Create a single logical qubit\n",
        "      \n",
        "\n",
        "*   Define a lattice of physical qubits (4x4?)\n",
        "*   Define the stabilizer generators (vertex and plaquette stabilizers)\n",
        "*   We're gonna do a rotated surface code -- this is state of the art\n",
        "\n",
        "\n",
        "#### Replicate the logical qubit twice\n",
        "\n",
        "\n",
        "\n",
        "\n",
        "#### Figure out how to implement interactions between the qubits\n",
        "\n"
      ]
    },
    {
      "cell_type": "markdown",
      "metadata": {
        "id": "rsZLi2GpP9tm"
      },
      "source": [
        "There's several alternate schemes depending on how you construct the lattice and if you want it to encode two logical qubits or one. https://arxiv.org/pdf/quant-ph/9811052 I mainly followed along with paper for two logical qubits and how they implemented the stabilizer circuits."
      ]
    },
    {
      "cell_type": "code",
      "execution_count": 132,
      "metadata": {
        "id": "MFYNrUAh9AUo"
      },
      "outputs": [],
      "source": [
        "class DisjointSet:\n",
        "  def __init__(self, vx_count):\n",
        "    self.parent = dict((x,x) for x in vx_count)\n",
        "    self.paths = {}\n",
        "    for i in vx_count:\n",
        "       self.paths[i]=[]\n",
        "\n",
        "\n",
        "    self.rank = dict((x,0) for x in vx_count)\n",
        "\n",
        "  def find(self, i):\n",
        "    if self.parent[i] != i:\n",
        "      self.parent[i] = self.find(self.parent[i])\n",
        "    return self.parent[i]\n",
        "\n",
        "  def union(self, x, y, e):\n",
        "    s1 = self.find(x)\n",
        "    s2 = self.find(y)\n",
        "    #print(\"Run with \"+str(x)+\" \"+str(y))\n",
        "    #print(self.rank)\n",
        "    if s1 != s2:\n",
        "\n",
        "      if self.rank[s1] < self.rank[s2]:\n",
        "          self.parent[s1] = s2\n",
        "          self.rank[s2] += 1 + self.rank[s1]\n",
        "          self.paths[s1].append(e)\n",
        "          self.paths[s2] += self.paths[s1]\n",
        "\n",
        "      else:\n",
        "          self.parent[s2] = s1\n",
        "          self.rank[s1] += 1 + self.rank[s2]\n",
        "          self.paths[s2].append(e)\n",
        "          self.paths[s1] += self.paths[s2]\n",
        "    #print(self.rank)\n",
        "    #print(\" \")\n",
        "  def get_highest_rank_tree(self):\n",
        "    max_rank = -1\n",
        "    max_rank_index = 0\n",
        "    for i in self.rank.keys():\n",
        "      if self.rank[i] > max_rank:\n",
        "        max_rank = self.rank[i]\n",
        "        max_rank_index = i\n",
        "    return self.paths[max_rank_index]\n"
      ]
    },
    {
      "cell_type": "code",
      "execution_count": 134,
      "metadata": {
        "colab": {
          "base_uri": "https://localhost:8080/",
          "height": 108
        },
        "id": "DXA9EGfwaHQS",
        "outputId": "a6575cf9-00d1-4a22-8510-0a1406e092fe"
      },
      "outputs": [],
      "source": [
        "class Graph:\n",
        "  def __init__(self):\n",
        "    self.vertexes = []\n",
        "    self.edges = []\n",
        "    self.minimum_spanning_tree = None\n",
        "  def add_vertex(self, v):\n",
        "    self.vertexes.append(v)\n",
        "  def get_edge_other_vertex(self, v, edge):\n",
        "    if v == edge[\"v1\"]: return edge[\"v2\"]\n",
        "    else: return edge[\"v1\"]\n",
        "\n",
        "  def add_edge(self, v1, v2, w, path):\n",
        "    self.edges.append({\"v1\":v1, \"v2\":v2, \"weight\":w, \"data_qubit_path\": path})\n",
        "\n",
        "  def sort_fun(self, edge):\n",
        "    return edge[\"weight\"]\n",
        "\n",
        "  def get_minimum_spanning_tree(self):\n",
        "\n",
        "    #Sort edges so we go through them highest to lowest order of weight\n",
        "    self.edges.sort(key=self.sort_fun)\n",
        "    tree_tracker = DisjointSet(self.vertexes)\n",
        "    count = 0\n",
        "\n",
        "    for e in self.edges:\n",
        "      if tree_tracker.find(e[\"v1\"]) != tree_tracker.find(e[\"v2\"]):\n",
        "        tree_tracker.union(e[\"v1\"], e[\"v2\"], e)\n",
        "        count += 1\n",
        "        if count == len(self.vertexes)-1:\n",
        "          break\n",
        "\n",
        "    #We've obtained a minimum spanning tree\n",
        "    min_span = tree_tracker.get_highest_rank_tree()\n",
        "\n",
        "    #Disconnect the middle edges to get a set of disconnected edges\n",
        "    min_span.sort(key=self.sort_fun)\n",
        "\n",
        "    count_edges_vertex_in = dict((x,0) for x in self.vertexes)\n",
        "    vertex_to_edges = dict((x,[]) for x in self.vertexes)\n",
        "\n",
        "    for e in min_span:\n",
        "      count_edges_vertex_in[e[\"v1\"]] += 1\n",
        "      count_edges_vertex_in[e[\"v2\"]] += 1\n",
        "      vertex_to_edges[e[\"v1\"]].append(e)\n",
        "      vertex_to_edges[e[\"v2\"]].append(e)\n",
        "\n",
        "    print(count_edges_vertex_in)\n",
        "    #only_one = list(x for x in self.vertexes if count_edges_vertex_in[x]==1)\n",
        "    count_edges_vertex_in = dict(sorted(filter(lambda item: item[1], count_edges_vertex_in.items()), key=lambda item: item[1]))\n",
        "    \n",
        "    vertex_used = []\n",
        "    shortest_edges = []\n",
        "\n",
        "    print(count_edges_vertex_in)\n",
        "    #print(vertex_to_edges)\n",
        "    for v in count_edges_vertex_in:\n",
        "      print(v)\n",
        "      print(vertex_used)\n",
        "      while v not in vertex_used:\n",
        "  \n",
        "        for e in vertex_to_edges[v]:\n",
        "          if self.get_edge_other_vertex(v,e) not in vertex_used:\n",
        "            vertex_used.append(v)\n",
        "            vertex_used.append(self.get_edge_other_vertex(v,e))\n",
        "            shortest_edges.append(e)\n",
        "\n",
        "      if len(vertex_used) == len(self.vertexes):\n",
        "        break\n",
        "\n",
        "\n",
        "    return shortest_edges\n",
        "\n",
        "\n",
        "\n"
      ]
    },
    {
      "cell_type": "code",
      "execution_count": null,
      "metadata": {},
      "outputs": [],
      "source": [
        "class Tree:\n",
        "  def __init__(self, root):\n",
        "    self.root = Node(None, root)\n",
        "    #self.nodes = {root: self.root}\n",
        "\n",
        "  def add_to_path(self, parent, node):\n",
        "   \n",
        "    nodes_list = []\n",
        "    if isinstance(node, list):\n",
        "      for n in node:\n",
        "        new_node = Node(parent, n)\n",
        "        parent.add_child(new_node)\n",
        "        nodes_list.append(new_node)\n",
        "    else:\n",
        "      new_node = Node(parent, node)\n",
        "      nodes_list.append(new_node)\n",
        "      parent.add_child(self.nodes[node])\n",
        "    return nodes_list\n",
        "\n",
        "  def get_path_to_root(self, node):\n",
        "    #print(\"Node \"+str(node))\n",
        "    #print(\"Root \"+str(self.root.name))\n",
        "    \n",
        "    path = []\n",
        "    distance = 0\n",
        "  \n",
        "    while node != None:\n",
        "      #print(node.name)\n",
        "      path = path + [node.name]\n",
        "      distance = distance + 1\n",
        "      node = node.parent\n",
        "      \n",
        "    #print(\" \")\n",
        "    return path, distance-1\n",
        "\n",
        "\n"
      ]
    },
    {
      "cell_type": "code",
      "execution_count": null,
      "metadata": {},
      "outputs": [],
      "source": [
        "class Node:\n",
        "    def __init__(self, parent, name):\n",
        "      self.parent = parent\n",
        "      self.name = name\n",
        "      self.children = []\n",
        "\n",
        "    def add_child(self, c):\n",
        "      self.children.append(c)\n",
        "\n",
        "    def add_children(self, c):\n",
        "      self.children = self.children + c\n"
      ]
    },
    {
      "cell_type": "code",
      "execution_count": null,
      "metadata": {
        "id": "tK-tl71ROusa"
      },
      "outputs": [],
      "source": [
        "#TODO: Add Description\n",
        "class SurfaceCode:\n",
        "\n",
        "  def __init__(self, d, T):\n",
        "    '''\n",
        "    Distance d surface code for T rounds of error correction (syndrome measurement)\n",
        "    * A surface code of distance d needs 2*d**2 physical qubits to support it the encodes the logical qubit value\n",
        "    *\n",
        "    '''\n",
        "    self.d = d\n",
        "    self.T = 0\n",
        "    #TODO: Edit to give correct (2d-1)^2\n",
        "    # SHREYA THOUGHTS: no this is not true -- d is the distance of the code = distance to the next valid state (qubit configuration). a code can correct floor((d-1)/2) errors\n",
        "    # TODO: what is n? number of physical qubits in the lattice? afaik that is (2d-1)^2 for an unrotated surface code. for toric code we have [n,k,d] = [(2d)^2, 2, d]\n",
        "    # for example we are implementing a [25, 1, 3] surface code if we're going for unrotated (this is the smallest one possible), so n = (6-1)^2 = 25\n",
        "    self.n = d - 1\n",
        "\n",
        "    #qubits\n",
        "    self.data_qubits = QuantumRegister(2*(self.n*self.n), \"data_qubits\")\n",
        "    self.x_stabilizer_qubits = QuantumRegister(self.n*self.n, \"x_stabilizer_qubits\")\n",
        "    self.z_stabilizer_qubits = QuantumRegister(self.n*self.n, \"z_stabilizer_qubits\")\n",
        "    #classical\n",
        "    self.classical_data_bits = ClassicalRegister(2*(self.n*self.n), \"classical_data_bits\")\n",
        "    self.x_syndrome_bits = ClassicalRegister((self.n*self.n), \"x_syndrome\")\n",
        "    self.z_syndrome_bits = ClassicalRegister((self.n*self.n), \"z_syndrome\")\n",
        "    self.x_old_syndrome = [0] * self.n * self.n\n",
        "    self.z_old_syndrome = [0] * self.n * self.n\n",
        "    self.circuit = QuantumCircuit(self.data_qubits, self.x_stabilizer_qubits, self.z_stabilizer_qubits, self.classical_data_bits, self.x_syndrome_bits, self.z_syndrome_bits)\n",
        "    self.registers = {\"data_qubits\", \"x_stabilizer_qubits\",\"z_stabilizer_qubits\",\"classical_data_bits\", \"x_syndrome_bits\", \"z_syndrome_bits\"}\n",
        "\n",
        "\n",
        "    self.lattice = self.construct_lattice(self.n)\n",
        "    self.x_pauli_frame = [1]*self.n*(self.n*2)\n",
        "    self.z_pauli_frame = [1]*self.n*(self.n*2)\n",
        "    self.x_generators = self.create_x_generators(self.lattice,self.n)\n",
        "    self.z_generators = self.create_z_generators(self.lattice,self.n)\n",
        "\n",
        "  def construct_lattice(self, n):\n",
        "    \"\"\"Constructs a lattice out of qubit indexes.\n",
        "    Each qubit is an edge - 2-D array where first row is first horionztal qubit row, second is first vertical qubit row\"\"\"\n",
        "    edges = []#np.array()\n",
        "    horizontal_edges = []\n",
        "    vertical_edges = []\n",
        "    for e in range(0,2*n):\n",
        "      #Horizontal if even, verical if odd\n",
        "      start = n*e\n",
        "      row = [*range(start,start+n)]\n",
        "      edges.append(row)\n",
        "\n",
        "      '''if e%2 == 0:\n",
        "          horizontal_edges.append(row)\n",
        "      else:\n",
        "        vertical_edges.append(row)'''\n",
        "\n",
        "    return edges\n",
        "\n",
        "  def create_x_generators(self, lattice, n):\n",
        "    '''Creates list of x genarator. X generator is a list of data qubit indexes the generator impacts.'''\n",
        "    x_gen = []\n",
        "\n",
        "    for i in range(0,n):\n",
        "      for j in range(0,n):\n",
        "        upper_edge = 2*i-1 if 2*i-1 > 0 else 2*n-1\n",
        "\n",
        "        x_gen.append([lattice[2*i][j],lattice[2*i][(j+1)%n],lattice[upper_edge][(j+1)%n],lattice[2*i+1][(j+1)%n]])\n",
        "\n",
        "    return x_gen\n",
        "\n",
        "  def create_z_generators(self, lattice, n):\n",
        "    '''Creates list of z genarator. Z generator is a list of data qubit indexes the generator impacts.'''\n",
        "    z_gen = []\n",
        "    for i in range(0,n):\n",
        "      for j in range(0,n):\n",
        "        right_edge = (j+1)%n\n",
        "        z_gen.append([lattice[2*i][j]\n",
        "                      ,lattice[(2*i+2)%(2*n)][j]\n",
        "                      ,lattice[2*i+1][j]\n",
        "                      ,lattice[2*i+1][right_edge]])\n",
        "        return z_gen\n",
        "  '''def encode_physical_qubits(self, logical_qubit):\n",
        "    #Logical qubit Encoding\n",
        "    #TODO: Encode even parity for 0, odd for 1\n",
        "    #Create superposition of all possible states where rules are followed - I think this\n",
        "    #TODO Got lost in the variable sauce and wasn't sure the exact translation into a circuit\n",
        "    self.circuit'''\n",
        "\n",
        "  def add_x_stabilizer_measurement(self, stabilizer_index, stabilizer):\n",
        "    '''Add a specified stabilizer to the surface circuit'''\n",
        "    self.circuit.h(self.x_stabilizer_qubits[stabilizer_index])\n",
        "    for q in stabilizer:\n",
        "      self.circuit.cx(self.x_stabilizer_qubits[stabilizer_index], self.data_qubits[q])\n",
        "\n",
        "    self.circuit.h(self.x_stabilizer_qubits[stabilizer_index])\n",
        "    self.circuit.measure(self.x_stabilizer_qubits[stabilizer_index], self.x_syndrome_bits[stabilizer_index])\n",
        "    self.circuit.barrier()\n",
        "\n",
        "  def add_z_stabilizer_measurement(self, stabilizer_index, stabilizer):\n",
        "    for q in stabilizer:\n",
        "      self.circuit.cx(self.data_qubits[q],self.z_stabilizer_qubits[stabilizer_index])\n",
        "\n",
        "    self.circuit.measure(self.z_stabilizer_qubits[stabilizer_index], self.z_syndrome_bits[stabilizer_index])\n",
        "    self.circuit.barrier()\n",
        "  def reset_circuit(self):\n",
        "    n = self.d - 1\n",
        "\n",
        "    #self.x_stabilizer_qubits = QuantumRegister(n*n, \"x_stabilizer_qubits\")\n",
        "    #self.z_stabilizer_qubits = QuantumRegister(n*n, \"z_stabilizer_qubits\")\n",
        "    #self.classical_data_bits = ClassicalRegister(2*(n*n), \"classical_data_bits\")\n",
        "    #self.x_syndrome_bits = ClassicalRegister((n*n), \"x_syndrome\")\n",
        "    #self.z_syndrome_bits = ClassicalRegister((n*n), \"z_syndrome\")\n",
        "    #self.x_old_syndrome_bits = ClassicalRegister((n*n), \"x_old_syndrome\")\n",
        "    #self.z_old_syndrome_bits = ClassicalRegister((n*n), \"z_old_syndrome\")\n",
        "\n",
        "    self.circuit = QuantumCircuit(self.data_qubits, self.x_stabilizer_qubits, self.z_stabilizer_qubits, self.classical_data_bits, self.x_syndrome_bits, self.z_syndrome_bits)\n",
        "    #self.registers = {\"data_qubits\", \"x_stabilizer_qubits\",\"z_stabilizer_qubits\",\"classical_data_bits\", \"x_syndrome\", \"z_syndrome\"}\n",
        "  def add_cycle_stabilizers(self):\n",
        "    \"Cycles through stabilizers and updates syndrome qubit measurements. Returns list of x syndrome flags and z syndrome flag and a boolean saying if any flags have happened.\"\n",
        "    #add stabilizer\n",
        "    for i in range(0,self.n*self.n):\n",
        "      self.add_x_stabilizer_measurement(i,self.x_generators[i])\n",
        "      self.add_z_stabilizer_measurement(i,self.z_generators[i])\n",
        "\n",
        "  def error_detection(self, backend, pm, simulator = True):\n",
        "    \"Run circuit and flags syndrome bits based expected parity.\"\n",
        "    error_exists = False\n",
        "    x_flags = [0]*self.n*self.n\n",
        "    z_flags = [0]*self.n*self.n\n",
        "    print(self.x_syndrome_bits.size)\n",
        "    #run circuit\n",
        "    if simulator:\n",
        "      result = AerSimulator().run(self.circuit).result()\n",
        "    else:\n",
        "      sampler = Sampler(backend)\n",
        "      transpiled_circuit = pm.run(self.circuit)\n",
        "      # collect stats\n",
        "      job = sampler.run([transpiled_circuit])\n",
        "      result = job.result()\n",
        "    stats = result.get_counts()\n",
        "    max = 0\n",
        "    for s in stats:\n",
        "      if max<stats[s]:\n",
        "        max = stats[s]\n",
        "        syn_string = s\n",
        "\n",
        "    print(syn_string)\n",
        "    #print(result)\n",
        "    syn = syn_string.split()\n",
        "    #TODO Check ordering first\n",
        "    x_syndrome = list(map(int, list(syn[1])))\n",
        "    z_syndrome = list(map(int, list(syn[0])))\n",
        "    #print(x_syndrome)\n",
        "    #flag errors\n",
        "    for i in range(0,self.n*self.n):\n",
        "      if abs(x_syndrome[i]-self.x_old_syndrome[i]) > 0:\n",
        "        x_flags[i] = 1\n",
        "        error_exists = True\n",
        "      if abs(z_syndrome[i]-self.z_old_syndrome[i]) > 0:\n",
        "        z_flags[i] = 1\n",
        "        error_exists = True\n",
        "\n",
        "    self.x_old_syndrome = x_syndrome.copy()\n",
        "    self.z_old_syndrome = z_syndrome.copy()\n",
        "\n",
        "    return x_flags, z_flags, error_exists, result\n",
        "  \n",
        "  '''def fix_error(self, type, target):\n",
        "    \"To fix or apply an x error.\"\n",
        "    if type == \"z\":\n",
        "      self.circuit.x(target)\n",
        "    else:\n",
        "      self.circuit.z(target)'''\n",
        "\n",
        "\n",
        "\n",
        "  def induce_error(self, prob_x_error, prob_z_error):\n",
        "    \"Adds error to the physical bits after matrix is contructed\"\n",
        "    for q in self.data_qubits:\n",
        "      e = random.random()\n",
        "      if e < prob_x_error:\n",
        "        self.circuit.x(q)\n",
        "      e = random.random()\n",
        "      if e < prob_z_error:\n",
        "        self.circuit.z(q)\n",
        "\n",
        "  def update_pauli_frame(self, x_flagged_qubits, z_flagged_qubits):\n",
        "    for x in x_flagged_qubits:\n",
        "      self.z_pauli_frame[x] = self.z_pauli_frame[x]*-1\n",
        "    for z in z_flagged_qubits:\n",
        "      self.x_pauli_frame[z] = self.x_pauli_frame[z]*-1\n",
        "\n",
        "  def apply_pauli_frame(self):\n",
        "    for i in range(0,len(self.x_pauli_frame)):\n",
        "      if self.x_pauli_frame[i]<0:\n",
        "        self.circuit.x(self.data_qubits[i])\n",
        "      if self.z_pauli_frame[i]<0:\n",
        "        self.circuit.z(self.data_qubits[i])\n",
        "\n",
        "  def data_qubits_transversed_by_path(self, type, path):\n",
        "      recovery_data = []\n",
        "\n",
        "      if type == \"z\":\n",
        "        for i in range(0,len(path)-1):\n",
        "          overlap = list(set(self.z_generators[path[i]]) & set(self.z_generators[path[i+1]]))\n",
        "          recovery_data.append(overlap[0])\n",
        "          print(str(path[i])+\" \"+str(path[i+1])+\" has overlap \"+str(overlap))\n",
        "          if len(overlap) == 0:\n",
        "            print(\"Error: no overlap\")\n",
        "      else:\n",
        "        for i in range(0,len(path)-1):\n",
        "          overlap = list(set(self.x_generators[path[i]]) & set(self.x_generators[path[i+1]]))\n",
        "          print(str(path[i])+\" \"+str(path[i+1])+\" has overlap \"+str(overlap))\n",
        "          if len(overlap) == 0:\n",
        "            print(\"Error: no overlap\")\n",
        "            return None\n",
        "          recovery_data.append(overlap[0])\n",
        "\n",
        "      return recovery_data\n",
        "  \n",
        "\n",
        "    \n",
        "\n",
        "  def flag_graphs(self, flags):\n",
        "      \"Creates a graph between flags with the edges weights being determined by the shortest manhattan distance between them\"\n",
        "      min_distance = self.n*self.n\n",
        "      flag_graph = Graph()\n",
        "      idx_flags = list(filter(lambda x: flags[x] == 1, range(0, len(flags))))\n",
        "      \n",
        "      \n",
        "      for k in idx_flags:\n",
        "        flag_graph.add_vertex(k)\n",
        "        #print(str(k)+\" as root run.\")\n",
        "        #creates shortest path from new vertex to all other points\n",
        "        for v in flag_graph.vertexes:\n",
        "          \n",
        "          paths = Tree(k)\n",
        "          \n",
        "          if v != k:      \n",
        "            #print(\"Connect \"+str(v))    \n",
        "            distance = 0\n",
        "            i1 = int(k/self.n)\n",
        "            j1 = k%self.n\n",
        "\n",
        "            i2 = int(v/self.n)\n",
        "            j2 = v%self.n\n",
        "            #print(\"For gen \"+str(k)+\" i1 \"+str(i1)+\" j1 \"+str(j1))\n",
        "            #print(\"For gen \"+str(v)+\" i2 \"+str(i2)+\" j2 \"+str(j2))\n",
        "            nodesToExplore = [paths.root]\n",
        "            i = i1\n",
        "            j = j1\n",
        "            #print(\"Before loop i \"+str(i)+\" j \"+str(j))\n",
        "            #Breadth First Search to find shortest path and save searched space as a Tree\n",
        "            found_node = None\n",
        "            while i != i2 or j != j2:\n",
        "              i = int(nodesToExplore[0].name/self.n)\n",
        "              j = nodesToExplore[0].name%self.n\n",
        "\n",
        "              childUp = (i - 1)%self.n\n",
        "              childLeft = (j-1)%self.n\n",
        "              childDown = (i + 1)%self.n\n",
        "              childRight = (j+1)%self.n\n",
        "\n",
        "              new_nodes = paths.add_to_path(nodesToExplore[0],[self.n*childUp+j, self.n*childDown+j,self.n*i+childLeft,self.n*i+childRight])\n",
        "              #print(\"Path added to \"+str(k)+\" \"+str([self.n*childUp+j, self.n*childDown+j,self.n*i+childLeft,self.n*i+childRight]))\n",
        "              nodesToExplore = nodesToExplore + new_nodes\n",
        "              #print(\"Nodes to explore \"+str(nodesToExplore))\n",
        "              found_node = nodesToExplore.pop(0)\n",
        "              #print(\"During loop i \"+str(i)+\" j \"+str(j))\n",
        "              #print(\"Nodes to explore \"+str(nodesToExplore))\n",
        "            #print(\"After loop i \"+str(i)+\" j \"+str(j))\n",
        "\n",
        "            #print(\"i \"+str(i)+\" j \"+str(j))\n",
        "            path, distance = paths.get_path_to_root(found_node)\n",
        "            if distance < min_distance:\n",
        "              min_distance = distance\n",
        "            flag_graph.add_edge(k, v, distance,path)\n",
        "          del paths\n",
        "\n",
        "      return flag_graph, min_distance\n",
        "   #functions related to the decoding and error correcting process\n",
        "  def decoder_minimum_weight_perfect_matching(self, x_flags, z_flags):\n",
        "    x_graph, x_min_distance = self.flag_graphs(x_flags)\n",
        "    z_graph, z_min_distance = self.flag_graphs(z_flags)\n",
        "    \n",
        "    x_min_span = x_graph.get_minimum_spanning_tree()\n",
        "    z_min_span = z_graph.get_minimum_spanning_tree()\n",
        "\n",
        "    x_data_qubits = []\n",
        "    z_data_qubits = []\n",
        "    for e in x_min_span:\n",
        "        x_data_qubits = x_data_qubits+self.data_qubits_transversed_by_path(\"x\", e[\"data_qubit_path\"])\n",
        "    for e in z_min_span:\n",
        "        z_data_qubits = z_data_qubits+self.data_qubits_transversed_by_path(\"z\", e[\"data_qubit_path\"])\n",
        "    \n",
        "    self.update_pauli_frame(x_data_qubits, z_data_qubits)\n"
      ]
    },
    {
      "cell_type": "markdown",
      "metadata": {
        "id": "iD6XnMWW4937"
      },
      "source": [
        "# Main"
      ]
    },
    {
      "cell_type": "code",
      "execution_count": null,
      "metadata": {
        "colab": {
          "base_uri": "https://localhost:8080/"
        },
        "id": "3-p2tD9P49AB",
        "outputId": "dbd1230c-6673-40c2-b078-e709708037e5"
      },
      "outputs": [
        {
          "name": "stderr",
          "output_type": "stream",
          "text": [
            "<ipython-input-21-105c25296384>:1: DeprecationWarning: The \"ibm_quantum\" channel option is deprecated and will be sunset on 1 July. After this date, ibm_cloud will be the only valid channel. For information on migrating to the new IBM Quantum Platform on the \"ibm_cloud\" channel, review the migration guide https://quantum.cloud.ibm.com/docs/migration-guides/classic-iqp-to-cloud-iqp .\n",
            "  service = QiskitRuntimeService(token='e1816d36734769cead0ac8774d406072977fe419aad0d46927507d83a3f2741bd766526b436a3aada0b45242d3a0e7757a789b59ee123d27814f55d3a83c3b6c',channel='ibm_quantum')\n"
          ]
        }
      ],
      "source": [
        "#TODO Get enviroment variable set up\n",
        "import os\n",
        "api_key = os.environ.get('QISKIT_API_KEY')\n",
        "print(api_key)\n",
        "service = QiskitRuntimeService(token='',channel='ibm_quantum')\n",
        "backend = service.least_busy(simulator = False, operational = True)\n",
        "pm = generate_preset_pass_manager(backend=backend, optimization_level=1)"
      ]
    },
    {
      "cell_type": "code",
      "execution_count": null,
      "metadata": {
        "id": "6mLKQKQ9NY6x"
      },
      "outputs": [],
      "source": [
        "#Create physical bit for state |00>\n",
        "sim_qubits = SurfaceCode(4,0)\n",
        "\n",
        "sim_qubits.add_cycle_stabilizers()\n",
        "sim_qubits\n",
        "#sim_qubits.circuit.draw(output=\"mpl\")\n",
        "#run first round of stabilizers\n",
        "\n",
        "#induce error\n",
        "\n",
        "#if error detected, record in pauli frame\n",
        "\n",
        "#repeat for several rounds\n",
        "\n",
        "#perform pauli frame corrections\n",
        "\n",
        "#measure data qubits and translate back into logical operation"
      ]
    },
    {
      "cell_type": "markdown",
      "metadata": {},
      "source": [
        "# Testing Zone\n",
        "\n",
        "Messy area where I test for expected behavior and debug simulation. Left in for"
      ]
    },
    {
      "cell_type": "code",
      "execution_count": 159,
      "metadata": {
        "colab": {
          "base_uri": "https://localhost:8080/"
        },
        "id": "S4kl2Sv8vhnq",
        "outputId": "e2a70a7d-80cc-4aa6-c707-281e9c737ea3"
      },
      "outputs": [
        {
          "name": "stdout",
          "output_type": "stream",
          "text": [
            "13\n",
            "25\n"
          ]
        }
      ],
      "source": [
        "#Test lattice construction\n",
        "test = SurfaceCode(4,6)\n",
        "#Build Lattice\n",
        "n = 2\n",
        "lattice= test.construct_lattice(n)\n",
        "print(2*(n*(n+1))+1)\n",
        "expected1 = [[0, 1], [2, 3], [4, 5], [6, 7]]\n",
        "if lattice != expected1:\n",
        "  print(\"Mistake! You fool.\")\n",
        "  print(\"Expected: \")\n",
        "  print(expected1)\n",
        "  print(\"Generated: \")\n",
        "  print(lattice)\n",
        "\n",
        "n = 3\n",
        "lattice= test.construct_lattice(n)\n",
        "print(2*(n*(n+1))+1)\n",
        "expected2 = [[0, 1, 2], [3, 4, 5], [6, 7, 8], [9, 10, 11], [12, 13, 14], [15, 16, 17]]\n",
        "if lattice != expected2:\n",
        "  print(\"Mistake! You fool.\")\n",
        "  print(\"Expected: \")\n",
        "  print(expected2)\n",
        "  print(\"Generated: \")\n",
        "  print(lattice)"
      ]
    },
    {
      "cell_type": "code",
      "execution_count": 160,
      "metadata": {
        "colab": {
          "base_uri": "https://localhost:8080/"
        },
        "id": "Xn5VvrU3YApI",
        "outputId": "3bcf8633-90dc-443f-c362-2ef53dff6b44"
      },
      "outputs": [
        {
          "name": "stdout",
          "output_type": "stream",
          "text": [
            "[[0, 1, 16, 4], [1, 2, 17, 5], [2, 0, 15, 3], [6, 7, 4, 10], [7, 8, 5, 11], [8, 6, 3, 9], [12, 13, 10, 16], [13, 14, 11, 17], [14, 12, 9, 15]]\n"
          ]
        }
      ],
      "source": [
        "#Check x and z generator creation\n",
        "print(test.create_x_generators(lattice,3))"
      ]
    },
    {
      "cell_type": "code",
      "execution_count": 161,
      "metadata": {
        "colab": {
          "base_uri": "https://localhost:8080/"
        },
        "id": "58_719T_aFEW",
        "outputId": "3fb6190b-b821-4e4a-af11-edc66320eebf"
      },
      "outputs": [
        {
          "name": "stdout",
          "output_type": "stream",
          "text": [
            "[[0, 6, 3, 4], [1, 7, 4, 5], [2, 8, 5, 3], [6, 12, 9, 10], [7, 13, 10, 11], [8, 14, 11, 9], [12, 0, 15, 16], [13, 1, 16, 17], [14, 2, 17, 15]]\n"
          ]
        }
      ],
      "source": [
        "print(test.create_z_generators(expected2,3))"
      ]
    },
    {
      "cell_type": "markdown",
      "metadata": {
        "id": "hzytRuDIEvCH"
      },
      "source": [
        "Stabilizer Tests"
      ]
    },
    {
      "cell_type": "code",
      "execution_count": 162,
      "metadata": {
        "id": "PWiiyTCMEukT"
      },
      "outputs": [],
      "source": [
        "test = SurfaceCode(4,6)\n",
        "#test.circuit.draw(output=\"mpl\")"
      ]
    },
    {
      "cell_type": "markdown",
      "metadata": {
        "id": "ZCG5aUrYHRxO"
      },
      "source": []
    },
    {
      "cell_type": "code",
      "execution_count": 163,
      "metadata": {
        "id": "FEtPzqeGGQRo"
      },
      "outputs": [],
      "source": [
        "test.add_x_stabilizer_measurement(1,test.x_generators[1])"
      ]
    },
    {
      "cell_type": "code",
      "execution_count": 164,
      "metadata": {
        "id": "wykKR4K9HKhP"
      },
      "outputs": [],
      "source": [
        "#test.circuit.draw(output=\"mpl\")"
      ]
    },
    {
      "cell_type": "code",
      "execution_count": 165,
      "metadata": {
        "id": "4mPw95TuMsRC"
      },
      "outputs": [],
      "source": [
        "test = SurfaceCode(4,6)\n",
        "del test"
      ]
    },
    {
      "cell_type": "code",
      "execution_count": 166,
      "metadata": {
        "id": "LPSMcYglIBlG"
      },
      "outputs": [],
      "source": [
        "#test.circuit.draw(output=\"mpl\")\n",
        "#test.add_z_stabilizer_measurement(1,test.z_generators[1])\n",
        "#test.circuit.draw(output=\"mpl\")"
      ]
    },
    {
      "cell_type": "code",
      "execution_count": 167,
      "metadata": {
        "id": "_ejkxGHlRI0b"
      },
      "outputs": [],
      "source": [
        "test = SurfaceCode(4,6)"
      ]
    },
    {
      "cell_type": "code",
      "execution_count": 168,
      "metadata": {
        "id": "OBLNkfP4NCJT"
      },
      "outputs": [],
      "source": [
        "#Test registers keep values after circuit cleared - failed so just going to rerun full circuit and do not reset it unless want to start over\n",
        "test.circuit.x(test.data_qubits[3])\n",
        "test.circuit.h(test.data_qubits[2])\n",
        "test.circuit.z(test.data_qubits[2])\n",
        "test.circuit.h(test.data_qubits[2])\n",
        "test.circuit.measure(3, test.x_syndrome_bits[2])\n",
        "test.circuit.measure(2, test.x_syndrome_bits[3])\n",
        "\n",
        "result = AerSimulator().run(test.circuit).result()"
      ]
    },
    {
      "cell_type": "code",
      "execution_count": 169,
      "metadata": {
        "colab": {
          "base_uri": "https://localhost:8080/"
        },
        "id": "heAfQpwMSngS",
        "outputId": "3d918a34-1bbf-4def-9603-1f9ab8931371"
      },
      "outputs": [
        {
          "name": "stdout",
          "output_type": "stream",
          "text": [
            "{'000000000 000001100 000000000000000000': 1024}\n"
          ]
        }
      ],
      "source": [
        "print(result.get_counts())"
      ]
    },
    {
      "cell_type": "code",
      "execution_count": 170,
      "metadata": {
        "id": "FrjMBppfSB16"
      },
      "outputs": [],
      "source": [
        "\n",
        "#test.circuit = QuantumCircuit(test.data_qubits, test.x_stabilizer_qubits, test.z_stabilizer_qubits, test.classical_data_bits, test.x_syndrome_bits, test.z_syndrome_bits)\n",
        "test.circuit.measure(0, test.x_syndrome_bits[5])\n",
        "result = AerSimulator().run(test.circuit).result()"
      ]
    },
    {
      "cell_type": "code",
      "execution_count": 171,
      "metadata": {
        "colab": {
          "base_uri": "https://localhost:8080/"
        },
        "id": "EN4JsROTQMPY",
        "outputId": "2333c6fa-80e3-46a3-b9b3-d37e7ba70928"
      },
      "outputs": [
        {
          "name": "stdout",
          "output_type": "stream",
          "text": [
            "{'000000000 000001100 000000000000000000': 1024}\n"
          ]
        }
      ],
      "source": [
        "print(result.get_counts())"
      ]
    },
    {
      "cell_type": "code",
      "execution_count": 172,
      "metadata": {
        "id": "O28afZNVy8KZ"
      },
      "outputs": [],
      "source": [
        "def add_x_stabilizer_measurement(self, stabilizer_index, stabilizer):\n",
        "    '''Add a specified stabilizer to the surface circuit'''\n",
        "    test.circuit.h(test.x_stabilizer_qubits[stabilizer_index])\n",
        "    for q in stabilizer:\n",
        "      test.circuit.cx(test.x_stabilizer_qubits[stabilizer_index], test.data_qubits[q])\n",
        "\n",
        "    test.circuit.h(test.x_stabilizer_qubits[stabilizer_index])\n",
        "    test.circuit.measure(test.x_stabilizer_qubits[stabilizer_index], test.x_syndrome_bits[stabilizer_index])\n",
        "    test.circuit.barrier()"
      ]
    },
    {
      "cell_type": "code",
      "execution_count": 173,
      "metadata": {
        "colab": {
          "base_uri": "https://localhost:8080/",
          "height": 382
        },
        "id": "pvUmUoplVlAQ",
        "outputId": "554af960-6ed7-4161-bcba-4c3058d7576f"
      },
      "outputs": [
        {
          "name": "stdout",
          "output_type": "stream",
          "text": [
            "9\n"
          ]
        },
        {
          "ename": "QiskitError",
          "evalue": "'No counts for experiment \"0\"'",
          "output_type": "error",
          "traceback": [
            "\u001b[0;31m---------------------------------------------------------------------------\u001b[0m",
            "\u001b[0;31mQiskitError\u001b[0m                               Traceback (most recent call last)",
            "Cell \u001b[0;32mIn[173], line 2\u001b[0m\n\u001b[1;32m      1\u001b[0m test \u001b[38;5;241m=\u001b[39m SurfaceCode(\u001b[38;5;241m4\u001b[39m,\u001b[38;5;241m6\u001b[39m)\n\u001b[0;32m----> 2\u001b[0m \u001b[43mtest\u001b[49m\u001b[38;5;241;43m.\u001b[39;49m\u001b[43merror_detection\u001b[49m\u001b[43m(\u001b[49m\u001b[38;5;28;43;01mNone\u001b[39;49;00m\u001b[43m,\u001b[49m\u001b[43m \u001b[49m\u001b[38;5;28;43;01mNone\u001b[39;49;00m\u001b[43m,\u001b[49m\u001b[43m \u001b[49m\u001b[43msimulator\u001b[49m\u001b[43m \u001b[49m\u001b[38;5;241;43m=\u001b[39;49m\u001b[43m \u001b[49m\u001b[38;5;28;43;01mTrue\u001b[39;49;00m\u001b[43m)\u001b[49m\n\u001b[1;32m      3\u001b[0m \u001b[38;5;66;03m#test.circuit.h(test.data_qubits[0])\u001b[39;00m\n\u001b[1;32m      4\u001b[0m \u001b[38;5;66;03m#test.circuit.x(test.data_qubits[0])\u001b[39;00m\n\u001b[1;32m      5\u001b[0m \u001b[38;5;66;03m#test.add_z_stabilizer_measurement(0, test.z_generators[0])\u001b[39;00m\n\u001b[1;32m      6\u001b[0m \u001b[38;5;66;03m#test.circuit.x(test.z_syndrome_bits[0])\u001b[39;00m\n\u001b[1;32m      7\u001b[0m \u001b[38;5;124;03m'''test.circuit.x(test.data_qubits[0])\u001b[39;00m\n\u001b[1;32m      8\u001b[0m \u001b[38;5;124;03mtest.circuit.h(test.x_stabilizer_qubits[0])\u001b[39;00m\n\u001b[1;32m      9\u001b[0m \u001b[38;5;124;03mprint(test.x_generators[0])\u001b[39;00m\n\u001b[0;32m   (...)\u001b[0m\n\u001b[1;32m     23\u001b[0m \u001b[38;5;124;03mtest.circuit.measure(test.data_qubits,test.classical_data_bits)\u001b[39;00m\n\u001b[1;32m     24\u001b[0m \u001b[38;5;124;03mtest.circuit.draw(output=\"mpl\")'''\u001b[39;00m\n",
            "Cell \u001b[0;32mIn[156], line 116\u001b[0m, in \u001b[0;36mSurfaceCode.error_detection\u001b[0;34m(self, backend, pm, simulator)\u001b[0m\n\u001b[1;32m    114\u001b[0m   job \u001b[38;5;241m=\u001b[39m sampler\u001b[38;5;241m.\u001b[39mrun([transpiled_circuit])\n\u001b[1;32m    115\u001b[0m   result \u001b[38;5;241m=\u001b[39m job\u001b[38;5;241m.\u001b[39mresult()\n\u001b[0;32m--> 116\u001b[0m stats \u001b[38;5;241m=\u001b[39m \u001b[43mresult\u001b[49m\u001b[38;5;241;43m.\u001b[39;49m\u001b[43mget_counts\u001b[49m\u001b[43m(\u001b[49m\u001b[43m)\u001b[49m\n\u001b[1;32m    117\u001b[0m \u001b[38;5;28mmax\u001b[39m \u001b[38;5;241m=\u001b[39m \u001b[38;5;241m0\u001b[39m\n\u001b[1;32m    118\u001b[0m \u001b[38;5;28;01mfor\u001b[39;00m s \u001b[38;5;129;01min\u001b[39;00m stats:\n",
            "File \u001b[0;32m/Library/Frameworks/Python.framework/Versions/3.13/lib/python3.13/site-packages/qiskit/result/result.py:373\u001b[0m, in \u001b[0;36mResult.get_counts\u001b[0;34m(self, experiment)\u001b[0m\n\u001b[1;32m    371\u001b[0m         dict_list\u001b[38;5;241m.\u001b[39mappend(statevector\u001b[38;5;241m.\u001b[39mStatevector(vec)\u001b[38;5;241m.\u001b[39mprobabilities_dict(decimals\u001b[38;5;241m=\u001b[39m\u001b[38;5;241m15\u001b[39m))\n\u001b[1;32m    372\u001b[0m     \u001b[38;5;28;01melse\u001b[39;00m:\n\u001b[0;32m--> 373\u001b[0m         \u001b[38;5;28;01mraise\u001b[39;00m QiskitError(\u001b[38;5;124mf\u001b[39m\u001b[38;5;124m'\u001b[39m\u001b[38;5;124mNo counts for experiment \u001b[39m\u001b[38;5;124m\"\u001b[39m\u001b[38;5;132;01m{\u001b[39;00m\u001b[38;5;28mrepr\u001b[39m(key)\u001b[38;5;132;01m}\u001b[39;00m\u001b[38;5;124m\"\u001b[39m\u001b[38;5;124m'\u001b[39m)\n\u001b[1;32m    375\u001b[0m \u001b[38;5;66;03m# Return first item of dict_list if size is 1\u001b[39;00m\n\u001b[1;32m    376\u001b[0m \u001b[38;5;28;01mif\u001b[39;00m \u001b[38;5;28mlen\u001b[39m(dict_list) \u001b[38;5;241m==\u001b[39m \u001b[38;5;241m1\u001b[39m:\n",
            "\u001b[0;31mQiskitError\u001b[0m: 'No counts for experiment \"0\"'"
          ]
        }
      ],
      "source": [
        "test = SurfaceCode(4,6)\n",
        "test.error_detection(None, None, simulator = True)\n",
        "#test.circuit.h(test.data_qubits[0])\n",
        "#test.circuit.x(test.data_qubits[0])\n",
        "#test.add_z_stabilizer_measurement(0, test.z_generators[0])\n",
        "#test.circuit.x(test.z_syndrome_bits[0])\n",
        "'''test.circuit.x(test.data_qubits[0])\n",
        "test.circuit.h(test.x_stabilizer_qubits[0])\n",
        "print(test.x_generators[0])\n",
        "gen = test.x_generators[0]\n",
        "test.circuit.cx(test.data_qubits[gen[0]],test.x_stabilizer_qubits[0])\n",
        "test.circuit.h(test.x_stabilizer_qubits[0])\n",
        "test.add_x_stabilizer_measurement(1,test.x_generators[1])\n",
        "for i in range(0,4):\n",
        "  test.circuit.measure(test.z_stabilizer_qubits[i], test.z_syndrome_bits[i])\n",
        "  test.circuit.measure(test.x_stabilizer_qubits[i], test.x_syndrome_bits[i])\n",
        "\n",
        "print(test.z_generators[0])\n",
        "#test.circuit.x(test.data_qubits[0])\n",
        "#test.circuit.z(test.data_qubits[2])\n",
        "#test.add_cycle_stabilizers()\n",
        "#test.circuit.measure(test.x_stabilizer_qubits, test.x_syndrome_bits)\n",
        "test.circuit.measure(test.data_qubits,test.classical_data_bits)\n",
        "test.circuit.draw(output=\"mpl\")'''\n"
      ]
    },
    {
      "cell_type": "code",
      "execution_count": null,
      "metadata": {
        "id": "B1rdcNczaJ5F"
      },
      "outputs": [],
      "source": [
        "\n",
        "x, z, error, result = test.error_detection(None, None, True)\n",
        "c = list(result.get_counts().items())[:10]\n",
        "display(plot_histogram(dict(c)))\n",
        "if error:\n",
        "  print(x)\n",
        "  print(z)"
      ]
    },
    {
      "cell_type": "code",
      "execution_count": null,
      "metadata": {},
      "outputs": [
        {
          "name": "stdout",
          "output_type": "stream",
          "text": [
            " \n",
            "Test 1: No Repeat Union\n",
            " \n",
            "{0: 0, 1: 1, 4: 4, 5: 5, 7: 7, 8: 8}\n",
            "{0: [], 1: [], 4: [], 5: [], 7: [], 8: []}\n",
            "{0: 0, 1: 0, 4: 0, 5: 0, 7: 0, 8: 0}\n",
            " \n",
            "{0: 0, 1: 0, 4: 4, 5: 5, 7: 7, 8: 8}\n",
            "{0: [[0, 1]], 1: [[0, 1]], 4: [], 5: [], 7: [], 8: []}\n",
            "{0: 1, 1: 0, 4: 0, 5: 0, 7: 0, 8: 0}\n",
            " \n",
            "Test 2: Multi Union\n",
            " \n",
            "{0: 0, 1: 0, 4: 4, 5: 5, 7: 7, 8: 8}\n",
            "{0: [[0, 1]], 1: [[0, 1]], 4: [], 5: [], 7: [], 8: []}\n",
            "{0: 1, 1: 0, 4: 0, 5: 0, 7: 0, 8: 0}\n",
            " \n",
            " \n",
            " \n",
            "{0: 0, 1: 0, 4: 4, 5: 7, 7: 7, 8: 4}\n",
            "{0: [[0, 1]], 1: [[0, 1]], 4: [[4, 8]], 5: [[7, 5]], 7: [[7, 5]], 8: [[4, 8]]}\n",
            "{0: 1, 1: 0, 4: 1, 5: 0, 7: 1, 8: 0}\n",
            " \n",
            " \n",
            "{0: 0, 1: 0, 4: 0, 5: 7, 7: 7, 8: 4}\n",
            "{0: [[0, 1], [4, 8], [1, 4]], 1: [[0, 1]], 4: [[4, 8], [1, 4]], 5: [[7, 5]], 7: [[7, 5]], 8: [[4, 8]]}\n",
            "{0: 3, 1: 0, 4: 1, 5: 0, 7: 1, 8: 0}\n",
            "[[0, 1], [4, 8], [1, 4]]\n"
          ]
        }
      ],
      "source": [
        "#Test DisjointSet\n",
        "v = [0,1,4,5,7,8]\n",
        "edgesComplete = []\n",
        "for i in v:\n",
        "    for j in v:\n",
        "        if i != j:\n",
        "            edgesComplete.append([i,j])\n",
        "\n",
        "dj = DisjointSet(v)\n",
        "print(\" \")\n",
        "print(\"Test 1: No Repeat Union\")\n",
        "print(\" \")\n",
        "#Union\n",
        "print(dj.parent)\n",
        "print(dj.paths)\n",
        "print(dj.rank)\n",
        "dj.union(0,1,[0,1])\n",
        "print(\" \")\n",
        "#Check that same edge can't be added twice\n",
        "dj.union(0,1,[0,1])\n",
        "print(dj.parent)\n",
        "print(dj.paths)\n",
        "print(dj.rank)\n",
        "\n",
        "print(\" \")\n",
        "print(\"Test 2: Multi Union\")\n",
        "print(\" \")\n",
        "\n",
        "print(dj.parent)\n",
        "print(dj.paths)\n",
        "print(dj.rank)\n",
        "dj.union(0,1,{\"v1\":0,\"v2\":1})\n",
        "print(\" \")\n",
        "#Check that same edge can't be added twice\n",
        "dj.union(7,5,[7,5])\n",
        "print(\" \")\n",
        "dj.union(4,8,[4,8])\n",
        "print(\" \")\n",
        "\n",
        "print(dj.parent)\n",
        "print(dj.paths)\n",
        "print(dj.rank)\n",
        "print(\" \")\n",
        "dj.union(1,4,[1,4])\n",
        "print(\" \")\n",
        "print(dj.parent)\n",
        "print(dj.paths)\n",
        "print(dj.rank)\n",
        "\n",
        "print(dj.get_highest_rank_tree())"
      ]
    },
    {
      "cell_type": "code",
      "execution_count": null,
      "metadata": {},
      "outputs": [
        {
          "name": "stdout",
          "output_type": "stream",
          "text": [
            "<__main__.Node object at 0x14b9b2a90>\n",
            "{1: <__main__.Node object at 0x14b9b2a90>}\n",
            "{1: <__main__.Node object at 0x14b9b2a90>, 2: <__main__.Node object at 0x14b964290>}\n",
            "{1: <__main__.Node object at 0x14b9b2a90>, 2: <__main__.Node object at 0x14b964290>, 3: <__main__.Node object at 0x14b9650d0>, 4: <__main__.Node object at 0x14b956780>}\n",
            "{1: <__main__.Node object at 0x14b9b2a90>, 2: <__main__.Node object at 0x14b964290>, 3: <__main__.Node object at 0x14b9650d0>, 4: <__main__.Node object at 0x14b956780>, 5: <__main__.Node object at 0x14b9568e0>}\n",
            "[5, 2, 1]\n",
            "2\n",
            "[3, 1]\n",
            "1\n"
          ]
        }
      ],
      "source": [
        "# Test Tree\n",
        "#Initalized successfully\n",
        "test_tree = Tree(1)\n",
        "print(test_tree.root)\n",
        "print(test_tree.nodes)\n",
        "\n",
        "#Test adding a single one\n",
        "test_tree.add_to_path(1,2)\n",
        "print(test_tree.nodes)\n",
        "\n",
        "#Test multi add\n",
        "test_tree.add_to_path(1,[3,4])\n",
        "print(test_tree.nodes)\n",
        "\n",
        "test_tree.add_to_path(2,5)\n",
        "print(test_tree.nodes)\n",
        "\n",
        "path, d = test_tree.get_path_to_root(5)\n",
        "print(path)\n",
        "print(d)\n",
        "\n",
        "path, d = test_tree.get_path_to_root(3)\n",
        "print(path)\n",
        "print(d)\n"
      ]
    },
    {
      "cell_type": "code",
      "execution_count": null,
      "metadata": {},
      "outputs": [
        {
          "name": "stdout",
          "output_type": "stream",
          "text": [
            "[0, 1, 2, 3, 4, 5, 6, 7, 8]\n",
            "[{'v1': 1, 'v2': 2, 'weight': 1, 'data_qubit_path': [1]}, {'v1': 1, 'v2': 4, 'weight': 1, 'data_qubit_path': [4]}, {'v1': 1, 'v2': 7, 'weight': 2, 'data_qubit_path': [4, 10]}, {'v1': 4, 'v2': 7, 'weight': 1, 'data_qubit_path': [10]}, {'v1': 2, 'v2': 4, 'weight': 2, 'data_qubit_path': [1, 4]}, {'v1': 2, 'v2': 7, 'weight': 3, 'data_qubit_path': [1, 4, 10]}]\n",
            "{0: 0, 1: 2, 2: 1, 3: 0, 4: 2, 5: 0, 6: 0, 7: 1, 8: 0}\n",
            "{2: 1, 7: 1, 1: 2, 4: 2}\n",
            "2\n",
            "[]\n",
            "7\n",
            "[2, 1]\n",
            "1\n",
            "[2, 1, 7, 4]\n",
            "4\n",
            "[2, 1, 7, 4]\n",
            "[{'v1': 1, 'v2': 2, 'weight': 1, 'data_qubit_path': [1]}, {'v1': 4, 'v2': 7, 'weight': 1, 'data_qubit_path': [10]}]\n"
          ]
        }
      ],
      "source": [
        "#Graph Tests\n",
        "test_graph = Graph()\n",
        "#Create a graph of stabilizers with errors on 1 and 10th qubit\n",
        "for i in range(0,9):\n",
        "  test_graph.add_vertex(i)\n",
        "\n",
        "\n",
        "\n",
        "test_graph.add_edge(1,2,1,[1])\n",
        "test_graph.add_edge(1,4,1,[4])\n",
        "test_graph.add_edge(1,7,2,[4,10])\n",
        "\n",
        "test_graph.add_edge(4,7,1,[10])\n",
        "test_graph.add_edge(2,4,2,[1,4])\n",
        "test_graph.add_edge(2,7,3,[1,4,10])\n",
        "\n",
        "print(test_graph.vertexes)\n",
        "print(test_graph.edges)\n",
        "\n",
        "min_tree = test_graph.get_minimum_spanning_tree()\n",
        "print(min_tree)\n",
        "\n",
        "\n"
      ]
    },
    {
      "cell_type": "code",
      "execution_count": null,
      "metadata": {},
      "outputs": [
        {
          "name": "stdout",
          "output_type": "stream",
          "text": [
            "[<__main__.Node object at 0x14a5ee0d0>]\n",
            "[<__main__.Node object at 0x14a5ee0d0>, <__main__.Node object at 0x14a5edf90>, <__main__.Node object at 0x13fe51480>]\n"
          ]
        }
      ],
      "source": [
        "#Test Node\n",
        "test_node = Node(None, \"p\")\n",
        "test_child1 =Node(test_node, \"c1\")\n",
        "test_child2 =Node(test_node, \"c2\")\n",
        "test_child3 =Node(test_node, \"c3\")\n",
        "\n",
        "children = [test_child2,test_child3]\n",
        "\n",
        "test_node.add_child(test_child1)\n",
        "print(test_node.children)\n",
        "\n",
        "test_node.add_children(children)\n",
        "print(test_node.children)\n"
      ]
    },
    {
      "cell_type": "code",
      "execution_count": null,
      "metadata": {},
      "outputs": [
        {
          "name": "stdout",
          "output_type": "stream",
          "text": [
            "[1, 1, 1, 1, 1, 1, 1, 1, 1, 1, 1, 1, 1, 1, 1, 1, 1, 1]\n",
            "[1, 1, 1, 1, 1, 1, 1, 1, 1, 1, 1, 1, 1, 1, 1, 1, 1, 1]\n",
            "After update\n",
            "[1, -1, 1, 1, 1, -1, 1, 1, 1, 1, 1, 1, 1, 1, 1, 1, 1, 1]\n",
            "[-1, 1, -1, 1, 1, 1, 1, 1, 1, 1, 1, 1, 1, 1, 1, 1, 1, 1]\n",
            "After second update\n",
            "[1, 1, 1, 1, 1, 1, 1, 1, 1, 1, 1, 1, 1, 1, 1, 1, 1, 1]\n",
            "[1, 1, 1, 1, 1, 1, 1, 1, 1, 1, 1, 1, 1, 1, 1, 1, 1, 1]\n"
          ]
        }
      ],
      "source": [
        "#Test Update Pauli Frame\n",
        "test_code = SurfaceCode(4, 1)\n",
        "print(test_code.x_pauli_frame)\n",
        "print(test_code.z_pauli_frame)\n",
        "test_code.update_pauli_frame([0,2],[1,5])\n",
        "print(\"After update\")\n",
        "print(test_code.x_pauli_frame)\n",
        "print(test_code.z_pauli_frame)\n",
        "test_code.update_pauli_frame([0,2],[1,5])\n",
        "print(\"After second update\")\n",
        "print(test_code.x_pauli_frame)\n",
        "print(test_code.z_pauli_frame)\n"
      ]
    },
    {
      "cell_type": "code",
      "execution_count": null,
      "metadata": {},
      "outputs": [
        {
          "name": "stdout",
          "output_type": "stream",
          "text": [
            "[1, 1, 1, 1, 1, 1, 1, 1, 1, 1, 1, 1, 1, 1, 1, 1, 1, 1]\n",
            "[1, 1, 1, 1, 1, 1, 1, 1, 1, 1, 1, 1, 1, 1, 1, 1, 1, 1]\n"
          ]
        }
      ],
      "source": [
        "#Test Apply Pauli Frame\n",
        "test_code = SurfaceCode(4, 1)\n",
        "print(test_code.x_pauli_frame)\n",
        "print(test_code.z_pauli_frame)\n",
        "test_code.update_pauli_frame([0,2],[1,5])\n",
        "test_code.apply_pauli_frame()\n",
        "test_code.circuit.draw(output=\"mpl\")\n"
      ]
    },
    {
      "cell_type": "code",
      "execution_count": null,
      "metadata": {},
      "outputs": [
        {
          "name": "stdout",
          "output_type": "stream",
          "text": [
            "[[0, 1, 2], [3, 4, 5], [6, 7, 8], [9, 10, 11], [12, 13, 14], [15, 16, 17]]\n",
            "14\n"
          ]
        }
      ],
      "source": [
        "test_code =SurfaceCode(4,0)\n",
        "print(test_code.lattice)\n",
        "print(test_code.lattice[4][2])"
      ]
    },
    {
      "cell_type": "code",
      "execution_count": null,
      "metadata": {},
      "outputs": [
        {
          "name": "stdout",
          "output_type": "stream",
          "text": [
            "For generators 0\n",
            "X Generators [0, 1, 16, 4]\n",
            "Z Generators [0, 6, 3, 4]\n",
            "For generators 1\n",
            "X Generators [1, 2, 17, 5]\n",
            "Z Generators [1, 7, 4, 5]\n",
            "For generators 2\n",
            "X Generators [2, 0, 15, 3]\n",
            "Z Generators [2, 8, 5, 3]\n",
            "For generators 3\n",
            "X Generators [6, 7, 4, 10]\n",
            "Z Generators [6, 12, 9, 10]\n",
            "For generators 4\n",
            "X Generators [7, 8, 5, 11]\n",
            "Z Generators [7, 13, 10, 11]\n",
            "For generators 5\n",
            "X Generators [8, 6, 3, 9]\n",
            "Z Generators [8, 14, 11, 9]\n",
            "For generators 6\n",
            "X Generators [12, 13, 10, 16]\n",
            "Z Generators [12, 0, 15, 16]\n",
            "For generators 7\n",
            "X Generators [13, 14, 11, 17]\n",
            "Z Generators [13, 1, 16, 17]\n",
            "For generators 8\n",
            "X Generators [14, 12, 9, 15]\n",
            "Z Generators [14, 2, 17, 15]\n"
          ]
        }
      ],
      "source": [
        "#test x and z generators\n",
        "\n",
        "for i in range(0,len(test_code.x_generators)):\n",
        "    print(\"For generators \"+str(i))\n",
        "    print(\"X Generators \"+str(test_code.x_generators[i]))\n",
        "    print(\"Z Generators \"+str(test_code.z_generators[i]))"
      ]
    },
    {
      "cell_type": "code",
      "execution_count": null,
      "metadata": {},
      "outputs": [
        {
          "name": "stdout",
          "output_type": "stream",
          "text": [
            "[[0, 6, 3, 4], [1, 7, 4, 5], [2, 8, 5, 3], [6, 12, 9, 10], [7, 13, 10, 11], [8, 14, 11, 9], [12, 0, 15, 16], [13, 1, 16, 17], [14, 2, 17, 15]]\n",
            "3 5 has overlap [6]\n",
            "X Data qubits transversed by path [3, 5] are: [6]\n",
            "Z Data qubits transversed by path [3, 5] are: [9]\n"
          ]
        }
      ],
      "source": [
        "#Test data qubits transversed by path\n",
        "test_code = SurfaceCode(4,0)\n",
        "print(test_code.z_generators)\n",
        "path = [3,5]\n",
        "#X\n",
        "datax = test_code.data_qubits_transversed_by_path(\"x\", path)\n",
        "print(\"X Data qubits transversed by path \"+str(path)+\" are: \"+str(datax))\n",
        "#Z\n",
        "dataz = test_code.data_qubits_transversed_by_path(\"z\", path)\n",
        "print(\"Z Data qubits transversed by path \"+str(path)+\" are: \"+str(dataz))"
      ]
    },
    {
      "cell_type": "code",
      "execution_count": null,
      "metadata": {
        "id": "fniBIAjtvX2F"
      },
      "outputs": [],
      "source": [
        "test.circuit.draw(output=\"mpl\")"
      ]
    },
    {
      "cell_type": "code",
      "execution_count": null,
      "metadata": {},
      "outputs": [
        {
          "name": "stdout",
          "output_type": "stream",
          "text": [
            "X Flag Graph\n",
            "[{'v1': 1, 'v2': 0, 'weight': 1, 'data_qubit_path': [0, 1]}, {'v1': 6, 'v2': 0, 'weight': 1, 'data_qubit_path': [0, 6]}, {'v1': 6, 'v2': 1, 'weight': 2, 'data_qubit_path': [1, 0, 6]}, {'v1': 8, 'v2': 0, 'weight': 2, 'data_qubit_path': [0, 2, 8]}, {'v1': 8, 'v2': 1, 'weight': 2, 'data_qubit_path': [1, 2, 8]}, {'v1': 8, 'v2': 6, 'weight': 1, 'data_qubit_path': [6, 8]}]\n",
            "Z Flag Graph\n",
            "[{'v1': 6, 'v2': 0, 'weight': 1, 'data_qubit_path': [0, 6]}]\n"
          ]
        }
      ],
      "source": [
        "#Test Flag Graph\n",
        "\n",
        "#Dummy data\n",
        "#One type of error each x on qubit 1 abd z on qubit 6\n",
        "x_flags = [1,1,0,0,0,0,1,0,1]\n",
        "z_flags = [1,0,0,0,0,0,1,0,0]\n",
        "\n",
        "test_code = SurfaceCode(4,0)\n",
        "xflag_graph, xd = test_code.flag_graphs(x_flags)\n",
        "zflag_graph, zd =test_code.flag_graphs(z_flags)\n",
        "\n",
        "print(\"X Generators\")\n",
        "print(test_code.x_generators)\n",
        "print(\"Z Generators\")\n",
        "print(test_code.z_generators)\n",
        "#One type of error each x on qubit 1 abd z on qubit 6 xz on qubit 12"
      ]
    },
    {
      "cell_type": "code",
      "execution_count": null,
      "metadata": {},
      "outputs": [
        {
          "name": "stdout",
          "output_type": "stream",
          "text": [
            "{0: 2, 1: 1, 6: 2, 8: 1}\n",
            "{1: 1, 8: 1, 0: 2, 6: 2}\n",
            "1\n",
            "[]\n",
            "8\n",
            "[1, 0]\n",
            "{0: 1, 6: 1}\n",
            "{0: 1, 6: 1}\n",
            "0\n",
            "[]\n",
            "X Flag Graph\n",
            "[{'v1': 1, 'v2': 0, 'weight': 1, 'data_qubit_path': [0, 1]}, {'v1': 8, 'v2': 6, 'weight': 1, 'data_qubit_path': [6, 8]}]\n",
            "Z Flag Graph\n",
            "[{'v1': 6, 'v2': 0, 'weight': 1, 'data_qubit_path': [0, 6]}]\n",
            "0 1 has overlap [1]\n",
            "6 8 has overlap [12]\n",
            "0 6 has overlap [0]\n",
            "X Data Qubits\n",
            "[1, 12]\n",
            "Z Data Qubits\n",
            "[0]\n"
          ]
        }
      ],
      "source": [
        "x_min_span = xflag_graph.get_minimum_spanning_tree()\n",
        "z_min_span = zflag_graph.get_minimum_spanning_tree()\n",
        "'''print(\"X Flag Graph\")\n",
        "print(x_min_span)\n",
        "print(\"Z Flag Graph\")       \n",
        "print(z_min_span)'''\n",
        "\n",
        "x_data_qubits = []\n",
        "z_data_qubits = []\n",
        "for e in x_min_span:\n",
        "    x_data_qubits = x_data_qubits+test_code.data_qubits_transversed_by_path(\"x\", e[\"data_qubit_path\"])\n",
        "for e in z_min_span:\n",
        "    z_data_qubits = z_data_qubits+test_code.data_qubits_transversed_by_path(\"z\", e[\"data_qubit_path\"])\n",
        "\n",
        "\n",
        "'''print(\"X Data Qubits\")\n",
        "print(x_data_qubits)\n",
        "print(\"Z Data Qubits\")\n",
        "print(z_data_qubits)'''\n",
        "\n",
        "test_code.update_pauli_frame(x_data_qubits, z_data_qubits)\n",
        "test_code.apply_pauli_frame()\n"
      ]
    },
    {
      "cell_type": "markdown",
      "metadata": {},
      "source": [
        "# References"
      ]
    },
    {
      "cell_type": "markdown",
      "metadata": {
        "id": "HmB05LA0FGVM"
      },
      "source": [
        "Resources used:\n",
        "* https://arthurpesah.me/blog/2023-05-13-surface-code/\n",
        "* https://errorcorrectionzoo.org/c/rotated_surface\n",
        "* https://errorcorrectionzoo.org/c/stab_4_2_2\n",
        "* https://github.com/quantumjim/qec_lectures/blob/main/lecture-1.ipynb\n",
        "* https://www.youtube.com/watch?v=M25fBmF9XR0\n",
        "* https://github.com/The-Singularity-Research/QISKit-Surface-Codes?tab=readme-ov-file\n",
        "\n",
        "This last link is very reader friendly and straightforward.\n",
        "* https://decodoku.blogspot.com/2016/03/8-toric-code-part-3.html\n",
        "\n",
        "Original Paper\n",
        "* https://arxiv.org/pdf/quant-ph/9811052\n",
        "\n",
        "Really good paper on nitty gritty on measuring stabilizer qubits\n",
        "* https://pure.tue.nl/ws/portalfiles/portal/318595789/1011230_-_Snijders_J.A.C._-_MSc_thesis_Thesis_-_MAP.pdf"
      ]
    },
    {
      "cell_type": "markdown",
      "metadata": {
        "id": "Bazs3cc_98EG"
      },
      "source": [
        "Implementing a rotated surface code, as far as I understand it:\n",
        "\n",
        "1. Initialize qubits\n",
        "   - Define grid size for a rotated surface code of distance d.\n",
        "     - This means the number of data qubits (physical non-ancilla qubits) is d^2.\n",
        "     - 3x3 grid ==> 9 data qubits.\n",
        "\n",
        "2. Create a lattice:\n",
        "   - Let each qubit be a vertex in a d×d grid.\n",
        "   - Assign a qubit to each of the vertices on the grid.\n",
        "\n",
        "3. Initialize the logical qubit:\n",
        "   - Apply a **logical \\(X\\)** and/or **logical \\(Z\\)** operator to encode the logical qubit (e.g., by applying a chain of qubits across rows and columns).\n",
        "    - I'm not suuuuper clear on the nitty gritty of this part...but I imagine we can use the same circuits as the toric code paper? Should be fine as long as we keep track of boundary conditions\n",
        "\n",
        "4. Apply stabilizer measurements (star and plaquette):\n",
        "   - A star stabilizer acts on a qubit and its neighboring qubits (connected to a vertex).\n",
        "   - A plaquette stabilizer acts on four qubits in a square arrangement.\n",
        "   - Apply each stabilizer by measuring the state of neighboring qubits:\n",
        "     - For each **plaquette stabilizer**:\n",
        "       - Measure the parity of four qubits that form a square (e.g., top-left, top-right, bottom-left, bottom-right of a plaquette).\n",
        "     - For each **star stabilizer**:\n",
        "       - Measure the parity of four qubits connected to a vertex.\n",
        "\n",
        "5. Syndrome measurement:\n",
        "   - Measure the stabilizers (parity of qubits) to detect errors.\n",
        "   - If the syndrome indicates an error (for example, a flipped bit), you can to correct the error by applying the appropriate gate\n",
        "   - Store the syndrome outcome (e.g., which stabilizers detected an error)\n",
        "   - Do we want to do this Pauli frame stuff? That would go here ish\n",
        "\n",
        "6. Error correction (move this to later if we do PF):\n",
        "   - If the syndrome indicates a flipped bit or phase, apply a correction based on the syndrome information\n",
        "\n",
        "7. Iterate:\n",
        "   - Repeat the process for each time step until the logical qubit is read out with high fidelity.\n",
        "\n",
        "8. Logical qubit measurement:\n",
        "   - PF corrections go here if we do that.\n",
        "   - Once error correction is complete, measure the logical qubit to extract the result.\n",
        "\n",
        "9. Return the result:\n",
        "   - The final measurement outcome is the state of the logical qubit after the error correction process.\n",
        "\n"
      ]
    },
    {
      "cell_type": "code",
      "execution_count": null,
      "metadata": {
        "id": "KMKNeuqC_oJy"
      },
      "outputs": [],
      "source": []
    }
  ],
  "metadata": {
    "colab": {
      "provenance": []
    },
    "kernelspec": {
      "display_name": "Python 3",
      "name": "python3"
    },
    "language_info": {
      "codemirror_mode": {
        "name": "ipython",
        "version": 3
      },
      "file_extension": ".py",
      "mimetype": "text/x-python",
      "name": "python",
      "nbconvert_exporter": "python",
      "pygments_lexer": "ipython3",
      "version": "3.13.0"
    }
  },
  "nbformat": 4,
  "nbformat_minor": 0
}
